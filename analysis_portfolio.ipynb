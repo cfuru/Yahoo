{
 "cells": [
  {
   "cell_type": "code",
   "execution_count": 6,
   "metadata": {},
   "outputs": [],
   "source": [
    "import pandas as pd\n",
    "\n",
    "import yahoo_scrape as scrape\n",
    "import yahoo_sql as ysql"
   ]
  },
  {
   "cell_type": "code",
   "execution_count": 3,
   "metadata": {},
   "outputs": [],
   "source": [
    "sql = ysql.fundamentals()\n",
    "cnxn, cursor = sql.connect()"
   ]
  },
  {
   "cell_type": "code",
   "execution_count": 9,
   "metadata": {},
   "outputs": [],
   "source": [
    "query_fundamentals = \"\"\"\n",
    "WITH\n",
    "\tCTE_LatestDate AS\n",
    "\t(\n",
    "\t\tSELECT \n",
    "\t\t\tMAX(Date) AS [LatestDate],\n",
    "\t\t\tCategory,\n",
    "\t\t\tTicker\n",
    "\t\tFROM \n",
    "\t\t\t[christopherFuru].[Yahoo].Fundamentals\n",
    "\t\tWHERE\n",
    "\t\t\tCategory IN\n",
    "\t\t\t(\n",
    "\t\t\t\t'Enterprise Value/EBITDA',\n",
    "\t\t\t\t'Forward P/E'\n",
    "\t\t\t)\n",
    "\t\tGROUP BY\n",
    "\t\t\tCategory,\n",
    "\t\t\tTicker\n",
    "\t),\n",
    "\n",
    "\tCTE_LatestValues AS\n",
    "\t(\n",
    "\t\tSELECT\n",
    "\t\t\tLD.LatestDate,\n",
    "\t\t\tLD.Ticker,\n",
    "\t\t\tV.Category,\n",
    "\t\t\tV.Value\n",
    "\t\tFROM\n",
    "\t\t\tCTE_LatestDate LD\n",
    "\t\t\tLEFT JOIN christopherFuru.Yahoo.Fundamentals V ON\n",
    "\t\t\t\tV.[Date] = LD.LatestDate AND\n",
    "\t\t\t\tV.Ticker = LD.Ticker AND\n",
    "\t\t\t\tV.Category = LD.Category\n",
    "\t)\n",
    "\n",
    "SELECT * FROM CTE_LatestValues\n",
    "\"\"\"\n",
    "query_company_info = \"\"\"\n",
    "SELECT\n",
    "    *\n",
    "FROM\n",
    "    [christopherFuru].[Yahoo].[Companies]\n",
    "\"\"\""
   ]
  },
  {
   "cell_type": "code",
   "execution_count": 12,
   "metadata": {},
   "outputs": [
    {
     "output_type": "execute_result",
     "data": {
      "text/plain": "     LatestDate       Ticker                  Category  Value          ISIN  \\\n0    2020-07-09    ERIC-A.ST              Forward P/E   22.17  SE0000108649   \n1    2020-07-09    ERIC-A.ST  Enterprise Value/EBITDA   14.89  SE0000108649   \n2    2020-07-09    ERIC-B.ST  Enterprise Value/EBITDA   14.89  SE0000108656   \n3    2020-07-09    ERIC-B.ST              Forward P/E   20.58  SE0000108656   \n4    2020-07-11  ESSITY-A.ST  Enterprise Value/EBITDA   10.52  SE0009922156   \n..          ...          ...                       ...    ...           ...   \n635  2020-07-09    EKTA-B.ST              Forward P/E   28.57  SE0000163628   \n636  2020-07-09    ELUX-A.ST  Enterprise Value/EBITDA    6.43  SE0000103806   \n637  2020-07-09    ELUX-A.ST              Forward P/E   24.45  SE0000103806   \n638  2020-07-09    ELUX-B.ST  Enterprise Value/EBITDA    6.43  SE0000103814   \n639  2020-07-09    ELUX-B.ST              Forward P/E   22.52  SE0000103814   \n\n      CompanyName          Sector       List  \n0      Ericsson A      Technology  Large cap  \n1      Ericsson A      Technology  Large cap  \n2      Ericsson B      Technology  Large cap  \n3      Ericsson B      Technology  Large cap  \n4        Essity A  Consumer Goods  Large cap  \n..            ...             ...        ...  \n635      Elekta B     Health Care  Large cap  \n636  Electrolux A  Consumer Goods  Large cap  \n637  Electrolux A  Consumer Goods  Large cap  \n638  Electrolux B  Consumer Goods  Large cap  \n639  Electrolux B  Consumer Goods  Large cap  \n\n[640 rows x 8 columns]",
      "text/html": "<div>\n<style scoped>\n    .dataframe tbody tr th:only-of-type {\n        vertical-align: middle;\n    }\n\n    .dataframe tbody tr th {\n        vertical-align: top;\n    }\n\n    .dataframe thead th {\n        text-align: right;\n    }\n</style>\n<table border=\"1\" class=\"dataframe\">\n  <thead>\n    <tr style=\"text-align: right;\">\n      <th></th>\n      <th>LatestDate</th>\n      <th>Ticker</th>\n      <th>Category</th>\n      <th>Value</th>\n      <th>ISIN</th>\n      <th>CompanyName</th>\n      <th>Sector</th>\n      <th>List</th>\n    </tr>\n  </thead>\n  <tbody>\n    <tr>\n      <th>0</th>\n      <td>2020-07-09</td>\n      <td>ERIC-A.ST</td>\n      <td>Forward P/E</td>\n      <td>22.17</td>\n      <td>SE0000108649</td>\n      <td>Ericsson A</td>\n      <td>Technology</td>\n      <td>Large cap</td>\n    </tr>\n    <tr>\n      <th>1</th>\n      <td>2020-07-09</td>\n      <td>ERIC-A.ST</td>\n      <td>Enterprise Value/EBITDA</td>\n      <td>14.89</td>\n      <td>SE0000108649</td>\n      <td>Ericsson A</td>\n      <td>Technology</td>\n      <td>Large cap</td>\n    </tr>\n    <tr>\n      <th>2</th>\n      <td>2020-07-09</td>\n      <td>ERIC-B.ST</td>\n      <td>Enterprise Value/EBITDA</td>\n      <td>14.89</td>\n      <td>SE0000108656</td>\n      <td>Ericsson B</td>\n      <td>Technology</td>\n      <td>Large cap</td>\n    </tr>\n    <tr>\n      <th>3</th>\n      <td>2020-07-09</td>\n      <td>ERIC-B.ST</td>\n      <td>Forward P/E</td>\n      <td>20.58</td>\n      <td>SE0000108656</td>\n      <td>Ericsson B</td>\n      <td>Technology</td>\n      <td>Large cap</td>\n    </tr>\n    <tr>\n      <th>4</th>\n      <td>2020-07-11</td>\n      <td>ESSITY-A.ST</td>\n      <td>Enterprise Value/EBITDA</td>\n      <td>10.52</td>\n      <td>SE0009922156</td>\n      <td>Essity A</td>\n      <td>Consumer Goods</td>\n      <td>Large cap</td>\n    </tr>\n    <tr>\n      <th>...</th>\n      <td>...</td>\n      <td>...</td>\n      <td>...</td>\n      <td>...</td>\n      <td>...</td>\n      <td>...</td>\n      <td>...</td>\n      <td>...</td>\n    </tr>\n    <tr>\n      <th>635</th>\n      <td>2020-07-09</td>\n      <td>EKTA-B.ST</td>\n      <td>Forward P/E</td>\n      <td>28.57</td>\n      <td>SE0000163628</td>\n      <td>Elekta B</td>\n      <td>Health Care</td>\n      <td>Large cap</td>\n    </tr>\n    <tr>\n      <th>636</th>\n      <td>2020-07-09</td>\n      <td>ELUX-A.ST</td>\n      <td>Enterprise Value/EBITDA</td>\n      <td>6.43</td>\n      <td>SE0000103806</td>\n      <td>Electrolux A</td>\n      <td>Consumer Goods</td>\n      <td>Large cap</td>\n    </tr>\n    <tr>\n      <th>637</th>\n      <td>2020-07-09</td>\n      <td>ELUX-A.ST</td>\n      <td>Forward P/E</td>\n      <td>24.45</td>\n      <td>SE0000103806</td>\n      <td>Electrolux A</td>\n      <td>Consumer Goods</td>\n      <td>Large cap</td>\n    </tr>\n    <tr>\n      <th>638</th>\n      <td>2020-07-09</td>\n      <td>ELUX-B.ST</td>\n      <td>Enterprise Value/EBITDA</td>\n      <td>6.43</td>\n      <td>SE0000103814</td>\n      <td>Electrolux B</td>\n      <td>Consumer Goods</td>\n      <td>Large cap</td>\n    </tr>\n    <tr>\n      <th>639</th>\n      <td>2020-07-09</td>\n      <td>ELUX-B.ST</td>\n      <td>Forward P/E</td>\n      <td>22.52</td>\n      <td>SE0000103814</td>\n      <td>Electrolux B</td>\n      <td>Consumer Goods</td>\n      <td>Large cap</td>\n    </tr>\n  </tbody>\n</table>\n<p>640 rows × 8 columns</p>\n</div>"
     },
     "metadata": {},
     "execution_count": 12
    }
   ],
   "source": [
    "df_fundamentals = pd.read_sql(query_fundamentals, cnxn)\n",
    "df_company_info = pd.read_sql(query_company_info, cnxn)\n",
    "\n",
    "df_fundamentals = pd.merge(df_fundamentals, df_company_info, on = 'Ticker')\n",
    "df_fundamentals"
   ]
  },
  {
   "cell_type": "code",
   "execution_count": null,
   "metadata": {},
   "outputs": [],
   "source": []
  }
 ],
 "metadata": {
  "language_info": {
   "codemirror_mode": {
    "name": "ipython",
    "version": 3
   },
   "file_extension": ".py",
   "mimetype": "text/x-python",
   "name": "python",
   "nbconvert_exporter": "python",
   "pygments_lexer": "ipython3",
   "version": "3.8.3-final"
  },
  "orig_nbformat": 2,
  "kernelspec": {
   "name": "python38332bit464abc6759ac4b0cbccec3f4077e2b6f",
   "display_name": "Python 3.8.3 32-bit"
  }
 },
 "nbformat": 4,
 "nbformat_minor": 2
}