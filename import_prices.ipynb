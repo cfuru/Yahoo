{
 "cells": [
  {
   "cell_type": "code",
   "execution_count": 1,
   "metadata": {},
   "outputs": [],
   "source": [
    "import pandas as pd\n",
    "import yahoo_scrape as scrape\n",
    "import yahoo_sql as ysql"
   ]
  },
  {
   "cell_type": "code",
   "execution_count": 2,
   "metadata": {
    "tags": [
     "outputPrepend",
     "outputPrepend",
     "outputPrepend",
     "outputPrepend",
     "outputPrepend",
     "outputPrepend",
     "outputPrepend",
     "outputPrepend",
     "outputPrepend",
     "outputPrepend",
     "outputPrepend",
     "outputPrepend",
     "outputPrepend",
     "outputPrepend",
     "outputPrepend",
     "outputPrepend",
     "outputPrepend",
     "outputPrepend",
     "outputPrepend",
     "outputPrepend",
     "outputPrepend",
     "outputPrepend",
     "outputPrepend",
     "outputPrepend",
     "outputPrepend",
     "outputPrepend",
     "outputPrepend",
     "outputPrepend",
     "outputPrepend",
     "outputPrepend",
     "outputPrepend",
     "outputPrepend",
     "outputPrepend",
     "outputPrepend",
     "outputPrepend",
     "outputPrepend",
     "outputPrepend",
     "outputPrepend",
     "outputPrepend",
     "outputPrepend",
     "outputPrepend",
     "outputPrepend",
     "outputPrepend",
     "outputPrepend",
     "outputPrepend",
     "outputPrepend",
     "outputPrepend",
     "outputPrepend",
     "outputPrepend",
     "outputPrepend",
     "outputPrepend",
     "outputPrepend",
     "outputPrepend",
     "outputPrepend",
     "outputPrepend",
     "outputPrepend",
     "outputPrepend",
     "outputPrepend",
     "outputPrepend",
     "outputPrepend",
     "outputPrepend",
     "outputPrepend",
     "outputPrepend",
     "outputPrepend",
     "outputPrepend"
    ]
   },
   "outputs": [
    {
     "output_type": "stream",
     "name": "stdout",
     "text": "0 out of 692 corresponds to CMOTEC-B.ST\nSQL-merge done!\n1 out of 692 corresponds to COMBI.ST\nSQL-merge done!\n2 out of 692 corresponds to CONF.ST\nSQL-merge done!\n3 out of 692 corresponds to COPP-B.ST\nSQL-merge done!\n4 out of 692 corresponds to CUR.ST\nSQL-merge done!\n5 out of 692 corresponds to CYB1.ST\nSQL-merge done!\n6 out of 692 corresponds to CYXO.ST\nSQL-merge done!\n7 out of 692 corresponds to DDM.ST\nSQL-merge done!\n8 out of 692 corresponds to DELARK.ST\nSQL-merge done!\n9 out of 692 corresponds to DEVP-B.ST\nSQL-merge done!\n10 out of 692 corresponds to DIAH.ST\nSQL-merge done!\n11 out of 692 corresponds to DIGN.ST\nSQL-merge done!\n12 out of 692 corresponds to DIST.ST\nSQL-merge done!\n13 out of 692 corresponds to DMYD-B.ST\nSQL-merge done!\n14 out of 692 corresponds to DOME.ST\nSQL-merge done!\n15 out of 692 corresponds to DOXA.ST\nSQL-merge done!\n16 out of 692 corresponds to DRIL.ST\nSQL-merge done!\n17 out of 692 corresponds to EFFP.ST\nSQL-merge done!\n18 out of 692 corresponds to ELN.ST\nSQL-merge done!\n19 out of 692 corresponds to ENERS.ST\nSQL-merge done!\n20 out of 692 corresponds to ENZY.ST\nSQL-merge done!\n21 out of 692 corresponds to EOS.ST\nSQL-merge done!\n22 out of 692 corresponds to ERMA.ST\nSQL-merge done!\n23 out of 692 corresponds to EXPRS2.ST\nSQL-merge done!\n24 out of 692 corresponds to FIL.ST\nSQL-merge done!\n25 out of 692 corresponds to FIRE.ST\nSQL-merge done!\n26 out of 692 corresponds to FLEXM.ST\nSQL-merge done!\n27 out of 692 corresponds to FLEXQ.ST\nSQL-merge done!\n28 out of 692 corresponds to FLUI.ST\nSQL-merge done!\n29 out of 692 corresponds to FOOT-B.ST\nSQL-merge done!\n30 out of 692 corresponds to FOOT-PREF.ST\nSQL-merge done!\n31 out of 692 corresponds to FRAM-B.ST\nSQL-merge done!\n32 out of 692 corresponds to FRISQ.ST\nSQL-merge done!\n33 out of 692 corresponds to GABA.ST\nSQL-merge done!\n34 out of 692 corresponds to GAPW-B.ST\nSQL-merge done!\n35 out of 692 corresponds to GCOR.ST\nSQL-merge done!\n36 out of 692 corresponds to GENI.ST\nSQL-merge done!\n37 out of 692 corresponds to GENO.ST\nSQL-merge done!\n38 out of 692 corresponds to GHUS-B.ST\nSQL-merge done!\n39 out of 692 corresponds to GLOBAL.ST\nSQL-merge done!\n40 out of 692 corresponds to GOMX.ST\nSQL-merge done!\n41 out of 692 corresponds to GPG-PREF.ST\nSQL-merge done!\n42 out of 692 corresponds to GPX.ST\nSQL-merge done!\n43 out of 692 corresponds to GREAT.ST\nSQL-merge done!\n44 out of 692 corresponds to GREEN.ST\nSQL-merge done!\n45 out of 692 corresponds to HANZA.ST\nSQL-merge done!\n46 out of 692 corresponds to HDW-B.ST\nSQL-merge done!\n47 out of 692 corresponds to HEGR.ST\nSQL-merge done!\n48 out of 692 corresponds to HEIM-PREF.ST\nSQL-merge done!\n49 out of 692 corresponds to HELIO.ST\nSQL-merge done!\n50 out of 692 corresponds to HEMC.ST\nSQL-merge done!\n51 out of 692 corresponds to HIFA-B.ST\nSQL-merge done!\n52 out of 692 corresponds to HOVD.ST\nSQL-merge done!\n53 out of 692 corresponds to HOYLU.ST\nSQL-merge done!\n54 out of 692 corresponds to ICO.ST\nSQL-merge done!\n55 out of 692 corresponds to IMPC.ST\nSQL-merge done!\n56 out of 692 corresponds to INCOAX.ST\nSQL-merge done!\n57 out of 692 corresponds to ASAI.ST\nSQL-merge done!\n58 out of 692 corresponds to INDEX.ST\nSQL-merge done!\n59 out of 692 corresponds to INISS-B.ST\nSQL-merge done!\n60 out of 692 corresponds to INTEG-B.ST\nSQL-merge done!\n61 out of 692 corresponds to IRIS.ST\nSQL-merge done!\n62 out of 692 corresponds to IRLAB-A.ST\nSQL-merge done!\n63 out of 692 corresponds to IRRAS.ST\nSQL-merge done!\n64 out of 692 corresponds to ISOFOL.ST\nSQL-merge done!\n65 out of 692 corresponds to ISR.ST\nSQL-merge done!\n66 out of 692 corresponds to ITAL-SDB.ST\nSQL-merge done!\n67 out of 692 corresponds to ITECH.ST\nSQL-merge done!\n68 out of 692 corresponds to IVACC.ST\nSQL-merge done!\n69 out of 692 corresponds to IVISYS.ST\nSQL-merge done!\n70 out of 692 corresponds to JDT.ST\nSQL-merge done!\n71 out of 692 corresponds to JETPAK.ST\nSQL-merge done!\n72 out of 692 corresponds to JLT.ST\nSQL-merge done!\n73 out of 692 corresponds to K2A-PREF.ST\nSQL-merge done!\n74 out of 692 corresponds to KAKEL.ST\nSQL-merge done!\n75 out of 692 corresponds to KAMBI.ST\nSQL-merge done!\n76 out of 692 corresponds to KAN.ST\nSQL-merge done!\n77 out of 692 corresponds to KAPIAB.ST\nSQL-merge done!\n78 out of 692 corresponds to KARE.ST\nSQL-merge done!\n79 out of 692 corresponds to KENH.ST\nSQL-merge done!\n80 out of 692 corresponds to KLAR.ST\nSQL-merge done!\n81 out of 692 corresponds to KONT.ST\nSQL-merge done!\n82 out of 692 corresponds to KOPY.ST\nSQL-merge done!\n83 out of 692 corresponds to LAUR.ST\nSQL-merge done!\n84 out of 692 corresponds to LEMSE.ST\nSQL-merge done!\n85 out of 692 corresponds to LEX.ST\nSQL-merge done!\n86 out of 692 corresponds to LIDDS.ST\nSQL-merge done!\n87 out of 692 corresponds to LINKAB.ST\nSQL-merge done!\n88 out of 692 corresponds to LIVI.ST\nSQL-merge done!\n89 out of 692 corresponds to LLSW-B.ST\nSQL-merge done!\n90 out of 692 corresponds to LOG.ST\nSQL-merge done!\n91 out of 692 corresponds to LOUDS.ST\nSQL-merge done!\n92 out of 692 corresponds to LYKO-A.ST\nSQL-merge done!\n93 out of 692 corresponds to MACK-B.ST\nSQL-merge done!\n94 out of 692 corresponds to MAGI.ST\nSQL-merge done!\n95 out of 692 corresponds to MAHA-A.ST\nSQL-merge done!\n96 out of 692 corresponds to MANG.ST\nSQL-merge done!\n97 out of 692 corresponds to MANTEX.ST\nSQL-merge done!\n98 out of 692 corresponds to MAV.ST\nSQL-merge done!\n99 out of 692 corresponds to MAXF.ST\nSQL-merge done!\n100 out of 692 corresponds to ME.ST\nSQL-merge done!\n101 out of 692 corresponds to MIDS.ST\nSQL-merge done!\n102 out of 692 corresponds to MINEST.ST\nSQL-merge done!\n103 out of 692 corresponds to MISE.ST\nSQL-merge done!\n104 out of 692 corresponds to MOXI.ST\nSQL-merge done!\n105 out of 692 corresponds to MYFC.ST\nSQL-merge done!\n106 out of 692 corresponds to NEPA.ST\nSQL-merge done!\n107 out of 692 corresponds to NETG.ST\nSQL-merge done!\n108 out of 692 corresponds to NETM-B.ST\nSQL-merge done!\n109 out of 692 corresponds to NEXAM.ST\nSQL-merge done!\n110 out of 692 corresponds to NFGAB.ST\nSQL-merge done!\n111 out of 692 corresponds to NICO.ST\nSQL-merge done!\n112 out of 692 corresponds to NILS.ST\nSQL-merge done!\n113 out of 692 corresponds to NIO.ST\nSQL-merge done!\n114 out of 692 corresponds to NITRO.ST\nSQL-merge done!\n115 out of 692 corresponds to NJOB.ST\nSQL-merge done!\n116 out of 692 corresponds to NLAB.ST\nSQL-merge done!\n117 out of 692 corresponds to NNH.ST\nSQL-merge done!\n118 out of 692 corresponds to NXTMS.ST\nSQL-merge done!\n119 out of 692 corresponds to OBAB.ST\nSQL-merge done!\n120 out of 692 corresponds to OBOYA-B.ST\nSQL-merge done!\n121 out of 692 corresponds to ORGC.ST\nSQL-merge done!\n122 out of 692 corresponds to OV.ST\nSQL-merge done!\n123 out of 692 corresponds to OVZON.ST\nSQL-merge done!\n124 out of 692 corresponds to PAPI.ST\nSQL-merge done!\n125 out of 692 corresponds to PAX.ST\nSQL-merge done!\n126 out of 692 corresponds to PCAT.ST\nSQL-merge done!\n127 out of 692 corresponds to PCELL.ST\nSQL-merge done!\n128 out of 692 corresponds to PCOM-B.ST\nSQL-merge done!\n129 out of 692 corresponds to PDX.ST\nSQL-merge done!\n130 out of 692 corresponds to PEGRO-PREF.ST\nSQL-merge done!\n131 out of 692 corresponds to PIEZO.ST\nSQL-merge done!\n132 out of 692 corresponds to PLED.ST\nSQL-merge done!\n133 out of 692 corresponds to POLY.ST\nSQL-merge done!\n134 out of 692 corresponds to POLYG.ST\nSQL-merge done!\n135 out of 692 corresponds to PRCO-B.ST\nSQL-merge done!\n136 out of 692 corresponds to PRIME.ST\nSQL-merge done!\n137 out of 692 corresponds to PRIME-PREF-B.ST\nSQL-merge done!\n138 out of 692 corresponds to PROMO.ST\nSQL-merge done!\n139 out of 692 corresponds to QUART.ST\nSQL-merge done!\n140 out of 692 corresponds to QUART-PREF.ST\nSQL-merge done!\n141 out of 692 corresponds to RAKE.ST\nSQL-merge done!\n142 out of 692 corresponds to REALFI.ST\nSQL-merge done!\n143 out of 692 corresponds to REDS.ST\nSQL-merge done!\n144 out of 692 corresponds to RLS.ST\nSQL-merge done!\n145 out of 692 corresponds to RPLAN.ST\nSQL-merge done!\n146 out of 692 corresponds to S2M.ST\nSQL-merge done!\n147 out of 692 corresponds to SALT-B.ST\nSQL-merge done!\n148 out of 692 corresponds to SAPIAB.ST\nSQL-merge done!\n149 out of 692 corresponds to SAVOS.ST\nSQL-merge done!\n150 out of 692 corresponds to SAXG.ST\nSQL-merge done!\n151 out of 692 corresponds to SBB-B.ST\nSQL-merge done!\n152 out of 692 corresponds to SBB-D.ST\nSQL-merge done!\n153 out of 692 corresponds to SBB-PREF.ST\nSQL-merge done!\n154 out of 692 corresponds to SBOK.ST\nSQL-merge done!\n155 out of 692 corresponds to SCIB.ST\nSQL-merge done!\n156 out of 692 corresponds to SCOUT.ST\nSQL-merge done!\n157 out of 692 corresponds to SDIP-B.ST\nSQL-merge done!\n158 out of 692 corresponds to SDIP-PREF.ST\nSQL-merge done!\n159 out of 692 corresponds to SDOS.ST\nSQL-merge done!\n160 out of 692 corresponds to SDS.ST\nSQL-merge done!\n161 out of 692 corresponds to SECARE.ST\nSQL-merge done!\n162 out of 692 corresponds to SECI.ST\nSQL-merge done!\n163 out of 692 corresponds to SEDANA.ST\nSQL-merge done!\n164 out of 692 corresponds to SENZA.ST\nSQL-merge done!\n165 out of 692 corresponds to SERT.ST\nSQL-merge done!\n166 out of 692 corresponds to SES.ST\nSQL-merge done!\n167 out of 692 corresponds to SEYE.ST\nSQL-merge done!\n168 out of 692 corresponds to SEZI.ST\nSQL-merge done!\n169 out of 692 corresponds to SF.ST\nSQL-merge done!\n170 out of 692 corresponds to SIMRIS-B.ST\nSQL-merge done!\n171 out of 692 corresponds to SIVE.ST\nSQL-merge done!\n172 out of 692 corresponds to SJR-B.ST\nSQL-merge done!\n173 out of 692 corresponds to SKMO.ST\nSQL-merge done!\n174 out of 692 corresponds to SNM.ST\nSQL-merge done!\n175 out of 692 corresponds to SOLNA.ST\nSQL-merge done!\n176 out of 692 corresponds to SOLT.ST\nSQL-merge done!\n177 out of 692 corresponds to SONE.ST\nSQL-merge done!\n178 out of 692 corresponds to SPEC.ST\nSQL-merge done!\n179 out of 692 corresponds to SPIFF.ST\nSQL-merge done!\n180 out of 692 corresponds to SPRINT.ST\nSQL-merge done!\n181 out of 692 corresponds to STIL.ST\nSQL-merge done!\n182 out of 692 corresponds to STORY-B.ST\nSQL-merge done!\n183 out of 692 corresponds to STW.ST\nSQL-merge done!\n184 out of 692 corresponds to SUS.ST\nSQL-merge done!\n185 out of 692 corresponds to TAGM-B.ST\nSQL-merge done!\n186 out of 692 corresponds to TALK.ST\nSQL-merge done!\n187 out of 692 corresponds to TANGI.ST\nSQL-merge done!\n188 out of 692 corresponds to TCC.ST\nSQL-merge done!\n189 out of 692 corresponds to TCT.ST\nSQL-merge done!\n190 out of 692 corresponds to TERRNT-B.ST\nSQL-merge done!\n191 out of 692 corresponds to TORSAB.ST\nSQL-merge done!\n192 out of 692 corresponds to TRANS.ST\nSQL-merge done!\n193 out of 692 corresponds to TRIAN-B.ST\nSQL-merge done!\n194 out of 692 corresponds to TSEC.ST\nSQL-merge done!\n195 out of 692 corresponds to UNIBAP.ST\nSQL-merge done!\n196 out of 692 corresponds to URBIT.ST\nSQL-merge done!\n197 out of 692 corresponds to UTG.ST\nSQL-merge done!\n198 out of 692 corresponds to VEMF-SDB.ST\nSQL-merge done!\n199 out of 692 corresponds to VERI.ST\nSQL-merge done!\n200 out of 692 corresponds to VICO.ST\nSQL-merge done!\n201 out of 692 corresponds to WAYS.ST\nSQL-merge done!\n202 out of 692 corresponds to WESC.ST\nSQL-merge done!\n203 out of 692 corresponds to WPAY.ST\nSQL-merge done!\n204 out of 692 corresponds to XBRANE.ST\nSQL-merge done!\n205 out of 692 corresponds to XINT.ST\nSQL-merge done!\n206 out of 692 corresponds to XMR.ST\nSQL-merge done!\n207 out of 692 corresponds to XSPRAY.ST\nSQL-merge done!\n208 out of 692 corresponds to ZAPLOX.ST\nSQL-merge done!\n209 out of 692 corresponds to ZUTEC.ST\nSQL-merge done!\n210 out of 692 corresponds to ZZ-B.ST\nSQL-merge done!\n211 out of 692 corresponds to AAP-B.ST\nSQL-merge done!\n212 out of 692 corresponds to ACARIX.ST\nSQL-merge done!\n213 out of 692 corresponds to ADVE.ST\nSQL-merge done!\n214 out of 692 corresponds to AGES-B.ST\nSQL-merge done!\n215 out of 692 corresponds to ALZCUR.ST\nSQL-merge done!\n216 out of 692 corresponds to AMAST.ST\nSQL-merge done!\n217 out of 692 corresponds to AMAST-PREF.ST\nSQL-merge done!\n218 out of 692 corresponds to ASPIRE.ST\nSQL-merge done!\n219 out of 692 corresponds to AUR.ST\nSQL-merge done!\n220 out of 692 corresponds to AVEN.ST\nSQL-merge done!\n221 out of 692 corresponds to BIOVIC-B.ST\nSQL-merge done!\n222 out of 692 corresponds to BYGGP.ST\nSQL-merge done!\n223 out of 692 corresponds to CAG.ST\nSQL-merge done!\n224 out of 692 corresponds to CLIME-B.ST\nSQL-merge done!\n225 out of 692 corresponds to DEVP-B.ST\nSQL-merge done!\n226 out of 692 corresponds to DIST.ST\nSQL-merge done!\n227 out of 692 corresponds to DRIL.ST\nSQL-merge done!\n228 out of 692 corresponds to GOMX.ST\nSQL-merge done!\n229 out of 692 corresponds to GPG-PREF.ST\nSQL-merge done!\n230 out of 692 corresponds to HANZA.ST\nSQL-merge done!\n231 out of 692 corresponds to HEIM-PREF.ST\nSQL-merge done!\n232 out of 692 corresponds to IRLAB-A.ST\nSQL-merge done!\n233 out of 692 corresponds to IRRAS.ST\nSQL-merge done!\n234 out of 692 corresponds to ISOFOL.ST\nSQL-merge done!\n235 out of 692 corresponds to JETPAK.ST\nSQL-merge done!\n236 out of 692 corresponds to K2A-PREF.ST\nSQL-merge done!\n237 out of 692 corresponds to KAN.ST\nSQL-merge done!\n238 out of 692 corresponds to LAUR.ST\nSQL-merge done!\n239 out of 692 corresponds to LYKO-A.ST\nSQL-merge done!\n240 out of 692 corresponds to MAGI.ST\nSQL-merge done!\n241 out of 692 corresponds to MANG.ST\nSQL-merge done!\n242 out of 692 corresponds to NETG.ST\nSQL-merge done!\n243 out of 692 corresponds to NEXAM.ST\nSQL-merge done!\n244 out of 692 corresponds to OVZON.ST\nSQL-merge done!\n245 out of 692 corresponds to PDX.ST\nSQL-merge done!\n246 out of 692 corresponds to PEGRO-PREF.ST\nSQL-merge done!\n247 out of 692 corresponds to PRCO-B.ST\nSQL-merge done!\n248 out of 692 corresponds to PRIME.ST\nSQL-merge done!\n249 out of 692 corresponds to PRIME-PREF-B.ST\nSQL-merge done!\n250 out of 692 corresponds to RAKE.ST\nSQL-merge done!\n251 out of 692 corresponds to SALT-B.ST\nSQL-merge done!\n252 out of 692 corresponds to SBB-B.ST\nSQL-merge done!\n253 out of 692 corresponds to SBB-D.ST\nSQL-merge done!\n254 out of 692 corresponds to SBB-PREF.ST\nSQL-merge done!\n255 out of 692 corresponds to SDIP-B.ST\nSQL-merge done!\n256 out of 692 corresponds to SDIP-PREF.ST\nSQL-merge done!\n257 out of 692 corresponds to SDS.ST\nSQL-merge done!\n258 out of 692 corresponds to SF.ST\nSQL-merge done!\n259 out of 692 corresponds to SPRINT.ST\nSQL-merge done!\n260 out of 692 corresponds to TERRNT-B.ST\nSQL-merge done!\n261 out of 692 corresponds to TRIAN-B.ST\nSQL-merge done!\n262 out of 692 corresponds to VERI.ST\nSQL-merge done!\n"
    }
   ],
   "source": [
    "startDate = '2020-01-01'\n",
    "endDate = '2020-07-13'\n",
    "companyData = pd.read_excel('C:\\\\Users\\\\chris\\\\OneDrive\\\\Programmering\\\\Python\\\\Jupyter notebooks\\\\tickers.xlsx')\n",
    "tickers = companyData.Ticker\n",
    "\n",
    "sql = ysql.prices()\n",
    "cnxn, cursor = sql.connect()\n",
    "\n",
    "for index, tick in enumerate(tickers):\n",
    "    print(f'{index} out of {len(tickers)} corresponds to {tick}')\n",
    "    priceScraper = scrape.prices(tick, startDate, endDate)\n",
    "    priceData = priceScraper.getAdjClose()\n",
    "    sql.merge(priceData, cnxn, cursor)"
   ]
  }
 ],
 "metadata": {
  "language_info": {
   "codemirror_mode": {
    "name": "ipython",
    "version": 3
   },
   "file_extension": ".py",
   "mimetype": "text/x-python",
   "name": "python",
   "nbconvert_exporter": "python",
   "pygments_lexer": "ipython3",
   "version": "3.8.3-final"
  },
  "orig_nbformat": 2,
  "kernelspec": {
   "name": "python38332bit464abc6759ac4b0cbccec3f4077e2b6f",
   "display_name": "Python 3.8.3 32-bit"
  }
 },
 "nbformat": 4,
 "nbformat_minor": 2
}