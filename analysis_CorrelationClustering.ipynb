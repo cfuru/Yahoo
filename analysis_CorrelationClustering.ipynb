{
 "cells": [
  {
   "cell_type": "code",
   "execution_count": 13,
   "metadata": {},
   "outputs": [],
   "source": [
    "from datetime import date\n",
    "\n",
    "import pandas as pd\n",
    "import numpy as np\n",
    "\n",
    "import yahoo_scrape as scrape\n",
    "import yahoo_sql as ysql\n",
    "\n",
    "from sklearn.covariance import ledoit_wolf\n",
    "from sklearn import cluster, covariance, manifold, preprocessing\n",
    "from sklearn.covariance import GraphicalLasso\n",
    "from sklearn.manifold import TSNE\n",
    "\n",
    "# Import the necessary packages\n",
    "from sklearn.pipeline import make_pipeline\n",
    "from sklearn.preprocessing import Normalizer\n",
    "from sklearn.cluster import KMeans\n",
    "\n",
    "\n",
    "from bokeh.io import output_file, show\n",
    "from bokeh.plotting import figure\n",
    "from bokeh.models import ColumnDataSource, LabelSet, Legend, HoverTool\n",
    "from bokeh.palettes import all_palettes\n",
    "\n",
    "import matplotlib.pyplot as plt\n",
    "\n",
    "import pylab as pl"
   ]
  },
  {
   "cell_type": "markdown",
   "metadata": {},
   "source": [
    "## Connecting to db"
   ]
  },
  {
   "cell_type": "code",
   "execution_count": 14,
   "metadata": {},
   "outputs": [],
   "source": [
    "sql = ysql.fundamentals()\n",
    "cnxn, cursor = sql.connect()"
   ]
  },
  {
   "cell_type": "markdown",
   "metadata": {},
   "source": [
    "## Defining SQL-queries"
   ]
  },
  {
   "cell_type": "code",
   "execution_count": 15,
   "metadata": {},
   "outputs": [],
   "source": [
    "query_fundamentals = \"\"\"\n",
    "WITH\n",
    "\tCTE_LatestDate AS\n",
    "\t(\n",
    "\t\tSELECT \n",
    "\t\t\tMAX(F.[Date]) AS [LatestDate],\n",
    "\t\t\tX.Category,\n",
    "\t\t\tF.Ticker\n",
    "\t\tFROM\n",
    "\t\t\t[christopherFuru].[Yahoo].Fundamentals F\n",
    "\t\t\tCROSS JOIN\n",
    "\t\t\t(\n",
    "\t\t\t\tSELECT 'Enterprise Value/EBITDA' AS Category\n",
    "\t\t\t\tUNION\n",
    "\t\t\t\tSELECT 'Enterprise Value/Revenue'\n",
    "\t\t\t\tUNION\n",
    "\t\t\t\tSELECT 'Trailing P/E'\n",
    "\t\t\t) X\n",
    "\t\tGROUP BY\n",
    "\t\t\tX.Category,\n",
    "\t\t\tF.Ticker\n",
    "\t),\n",
    "\n",
    "\tCTE_LatestValues AS\n",
    "\t(\n",
    "\t\tSELECT\n",
    "\t\t\tLD.Ticker,\n",
    "\t\t\tLD.Category,\n",
    "\t\t\tV.Value\n",
    "\t\tFROM\n",
    "\t\t\tCTE_LatestDate LD\n",
    "\t\t\tLEFT JOIN christopherFuru.Yahoo.Fundamentals V ON\n",
    "\t\t\t\tV.[Date] = LD.LatestDate AND\n",
    "\t\t\t\tV.Ticker = LD.Ticker AND\n",
    "\t\t\t\tV.Category = LD.Category\n",
    "\t)\n",
    "\n",
    "SELECT * FROM CTE_LatestValues;\n",
    "\"\"\"\n",
    "query_company_info = \"\"\"\n",
    "SELECT\n",
    "    *\n",
    "FROM\n",
    "    [christopherFuru].[Yahoo].[Companies]\n",
    "\"\"\""
   ]
  },
  {
   "cell_type": "markdown",
   "metadata": {},
   "source": [
    "## Mergin company info with fundamentals"
   ]
  },
  {
   "cell_type": "code",
   "execution_count": 16,
   "metadata": {},
   "outputs": [
    {
     "output_type": "execute_result",
     "data": {
      "text/plain": "        Ticker  Enterprise Value/EBITDA  Enterprise Value/Revenue  \\\n0    2CUREX.ST                   -29.54                       NaN   \n1       3KR.ST                    11.64                     11.81   \n2       AAC.ST                   -11.03                      3.93   \n3       AAK.ST                    16.86                      1.69   \n4     AAP-B.ST                    -9.68                     29.56   \n..         ...                      ...                       ...   \n568   XVIVO.ST                  -639.80                     23.72   \n569  ZAPLOX.ST                    -2.26                     32.82   \n570    ZETA.ST                     4.38                      0.62   \n571   ZUTEC.ST                    -1.42                      1.87   \n572    ZZ-B.ST                    18.32                      1.05   \n\n     Trailing P/E          ISIN                     CompanyName  \\\n0             NaN  SE0010468124                          2cureX   \n1            7.71  SE0010169516  Tre Kronor Property Investment   \n2             NaN  SE0009268154                    ÅAC Microtec   \n3           29.06  SE0011337708                             AAK   \n4             NaN  SE0004977452                Arc Aroma Pure B   \n..            ...           ...                             ...   \n568        377.73  SE0004840718                 Xvivo Perfusion   \n569           NaN  SE0009722465                          Zaplox   \n570         15.59  SE0001105511                     ZetaDisplay   \n571           NaN  SE0010869487                   Zutec Holding   \n572         46.89  SE0002480442                       Zinzino B   \n\n                Sector         List  \n0          Health Care  First north  \n1           Financials  First north  \n2           Technology  First north  \n3       Consumer Goods    Large cap  \n4          Industrials  First north  \n..                 ...          ...  \n568        Health Care      Mid cap  \n569         Technology  First north  \n570         Technology    Small cap  \n571         Technology  First north  \n572  Consumer Services  First north  \n\n[573 rows x 8 columns]",
      "text/html": "<div>\n<style scoped>\n    .dataframe tbody tr th:only-of-type {\n        vertical-align: middle;\n    }\n\n    .dataframe tbody tr th {\n        vertical-align: top;\n    }\n\n    .dataframe thead th {\n        text-align: right;\n    }\n</style>\n<table border=\"1\" class=\"dataframe\">\n  <thead>\n    <tr style=\"text-align: right;\">\n      <th></th>\n      <th>Ticker</th>\n      <th>Enterprise Value/EBITDA</th>\n      <th>Enterprise Value/Revenue</th>\n      <th>Trailing P/E</th>\n      <th>ISIN</th>\n      <th>CompanyName</th>\n      <th>Sector</th>\n      <th>List</th>\n    </tr>\n  </thead>\n  <tbody>\n    <tr>\n      <th>0</th>\n      <td>2CUREX.ST</td>\n      <td>-29.54</td>\n      <td>NaN</td>\n      <td>NaN</td>\n      <td>SE0010468124</td>\n      <td>2cureX</td>\n      <td>Health Care</td>\n      <td>First north</td>\n    </tr>\n    <tr>\n      <th>1</th>\n      <td>3KR.ST</td>\n      <td>11.64</td>\n      <td>11.81</td>\n      <td>7.71</td>\n      <td>SE0010169516</td>\n      <td>Tre Kronor Property Investment</td>\n      <td>Financials</td>\n      <td>First north</td>\n    </tr>\n    <tr>\n      <th>2</th>\n      <td>AAC.ST</td>\n      <td>-11.03</td>\n      <td>3.93</td>\n      <td>NaN</td>\n      <td>SE0009268154</td>\n      <td>ÅAC Microtec</td>\n      <td>Technology</td>\n      <td>First north</td>\n    </tr>\n    <tr>\n      <th>3</th>\n      <td>AAK.ST</td>\n      <td>16.86</td>\n      <td>1.69</td>\n      <td>29.06</td>\n      <td>SE0011337708</td>\n      <td>AAK</td>\n      <td>Consumer Goods</td>\n      <td>Large cap</td>\n    </tr>\n    <tr>\n      <th>4</th>\n      <td>AAP-B.ST</td>\n      <td>-9.68</td>\n      <td>29.56</td>\n      <td>NaN</td>\n      <td>SE0004977452</td>\n      <td>Arc Aroma Pure B</td>\n      <td>Industrials</td>\n      <td>First north</td>\n    </tr>\n    <tr>\n      <th>...</th>\n      <td>...</td>\n      <td>...</td>\n      <td>...</td>\n      <td>...</td>\n      <td>...</td>\n      <td>...</td>\n      <td>...</td>\n      <td>...</td>\n    </tr>\n    <tr>\n      <th>568</th>\n      <td>XVIVO.ST</td>\n      <td>-639.80</td>\n      <td>23.72</td>\n      <td>377.73</td>\n      <td>SE0004840718</td>\n      <td>Xvivo Perfusion</td>\n      <td>Health Care</td>\n      <td>Mid cap</td>\n    </tr>\n    <tr>\n      <th>569</th>\n      <td>ZAPLOX.ST</td>\n      <td>-2.26</td>\n      <td>32.82</td>\n      <td>NaN</td>\n      <td>SE0009722465</td>\n      <td>Zaplox</td>\n      <td>Technology</td>\n      <td>First north</td>\n    </tr>\n    <tr>\n      <th>570</th>\n      <td>ZETA.ST</td>\n      <td>4.38</td>\n      <td>0.62</td>\n      <td>15.59</td>\n      <td>SE0001105511</td>\n      <td>ZetaDisplay</td>\n      <td>Technology</td>\n      <td>Small cap</td>\n    </tr>\n    <tr>\n      <th>571</th>\n      <td>ZUTEC.ST</td>\n      <td>-1.42</td>\n      <td>1.87</td>\n      <td>NaN</td>\n      <td>SE0010869487</td>\n      <td>Zutec Holding</td>\n      <td>Technology</td>\n      <td>First north</td>\n    </tr>\n    <tr>\n      <th>572</th>\n      <td>ZZ-B.ST</td>\n      <td>18.32</td>\n      <td>1.05</td>\n      <td>46.89</td>\n      <td>SE0002480442</td>\n      <td>Zinzino B</td>\n      <td>Consumer Services</td>\n      <td>First north</td>\n    </tr>\n  </tbody>\n</table>\n<p>573 rows × 8 columns</p>\n</div>"
     },
     "metadata": {},
     "execution_count": 16
    }
   ],
   "source": [
    "df_fundamentals = pd.read_sql(query_fundamentals, cnxn)\n",
    "df_fundamentals = pd.pivot_table(df_fundamentals, values = 'Value', index = 'Ticker', columns = 'Category')\n",
    "df_company_info = pd.read_sql(query_company_info, cnxn)\n",
    "\n",
    "df_fundamentals = df_fundamentals.merge(df_company_info, on = 'Ticker')\n",
    "df_fundamentals"
   ]
  },
  {
   "cell_type": "markdown",
   "metadata": {},
   "source": [
    "## Setting color for each sector"
   ]
  },
  {
   "cell_type": "code",
   "execution_count": 17,
   "metadata": {},
   "outputs": [
    {
     "output_type": "execute_result",
     "data": {
      "text/plain": "        Ticker  Enterprise Value/EBITDA  Enterprise Value/Revenue  \\\n0    2CUREX.ST                   -29.54                       NaN   \n1       3KR.ST                    11.64                     11.81   \n2       AAC.ST                   -11.03                      3.93   \n3       AAK.ST                    16.86                      1.69   \n4     AAP-B.ST                    -9.68                     29.56   \n..         ...                      ...                       ...   \n568   XVIVO.ST                  -639.80                     23.72   \n569  ZAPLOX.ST                    -2.26                     32.82   \n570    ZETA.ST                     4.38                      0.62   \n571   ZUTEC.ST                    -1.42                      1.87   \n572    ZZ-B.ST                    18.32                      1.05   \n\n     Trailing P/E          ISIN                     CompanyName  \\\n0             NaN  SE0010468124                          2cureX   \n1            7.71  SE0010169516  Tre Kronor Property Investment   \n2             NaN  SE0009268154                    ÅAC Microtec   \n3           29.06  SE0011337708                             AAK   \n4             NaN  SE0004977452                Arc Aroma Pure B   \n..            ...           ...                             ...   \n568        377.73  SE0004840718                 Xvivo Perfusion   \n569           NaN  SE0009722465                          Zaplox   \n570         15.59  SE0001105511                     ZetaDisplay   \n571           NaN  SE0010869487                   Zutec Holding   \n572         46.89  SE0002480442                       Zinzino B   \n\n                Sector         List    Color  \n0          Health Care  First north  #440154  \n1           Financials  First north  #472777  \n2           Technology  First north  #3E4989  \n3       Consumer Goods    Large cap  #30678D  \n4          Industrials  First north  #25828E  \n..                 ...          ...      ...  \n568        Health Care      Mid cap  #440154  \n569         Technology  First north  #3E4989  \n570         Technology    Small cap  #3E4989  \n571         Technology  First north  #3E4989  \n572  Consumer Services  First north  #1E9C89  \n\n[573 rows x 9 columns]",
      "text/html": "<div>\n<style scoped>\n    .dataframe tbody tr th:only-of-type {\n        vertical-align: middle;\n    }\n\n    .dataframe tbody tr th {\n        vertical-align: top;\n    }\n\n    .dataframe thead th {\n        text-align: right;\n    }\n</style>\n<table border=\"1\" class=\"dataframe\">\n  <thead>\n    <tr style=\"text-align: right;\">\n      <th></th>\n      <th>Ticker</th>\n      <th>Enterprise Value/EBITDA</th>\n      <th>Enterprise Value/Revenue</th>\n      <th>Trailing P/E</th>\n      <th>ISIN</th>\n      <th>CompanyName</th>\n      <th>Sector</th>\n      <th>List</th>\n      <th>Color</th>\n    </tr>\n  </thead>\n  <tbody>\n    <tr>\n      <th>0</th>\n      <td>2CUREX.ST</td>\n      <td>-29.54</td>\n      <td>NaN</td>\n      <td>NaN</td>\n      <td>SE0010468124</td>\n      <td>2cureX</td>\n      <td>Health Care</td>\n      <td>First north</td>\n      <td>#440154</td>\n    </tr>\n    <tr>\n      <th>1</th>\n      <td>3KR.ST</td>\n      <td>11.64</td>\n      <td>11.81</td>\n      <td>7.71</td>\n      <td>SE0010169516</td>\n      <td>Tre Kronor Property Investment</td>\n      <td>Financials</td>\n      <td>First north</td>\n      <td>#472777</td>\n    </tr>\n    <tr>\n      <th>2</th>\n      <td>AAC.ST</td>\n      <td>-11.03</td>\n      <td>3.93</td>\n      <td>NaN</td>\n      <td>SE0009268154</td>\n      <td>ÅAC Microtec</td>\n      <td>Technology</td>\n      <td>First north</td>\n      <td>#3E4989</td>\n    </tr>\n    <tr>\n      <th>3</th>\n      <td>AAK.ST</td>\n      <td>16.86</td>\n      <td>1.69</td>\n      <td>29.06</td>\n      <td>SE0011337708</td>\n      <td>AAK</td>\n      <td>Consumer Goods</td>\n      <td>Large cap</td>\n      <td>#30678D</td>\n    </tr>\n    <tr>\n      <th>4</th>\n      <td>AAP-B.ST</td>\n      <td>-9.68</td>\n      <td>29.56</td>\n      <td>NaN</td>\n      <td>SE0004977452</td>\n      <td>Arc Aroma Pure B</td>\n      <td>Industrials</td>\n      <td>First north</td>\n      <td>#25828E</td>\n    </tr>\n    <tr>\n      <th>...</th>\n      <td>...</td>\n      <td>...</td>\n      <td>...</td>\n      <td>...</td>\n      <td>...</td>\n      <td>...</td>\n      <td>...</td>\n      <td>...</td>\n      <td>...</td>\n    </tr>\n    <tr>\n      <th>568</th>\n      <td>XVIVO.ST</td>\n      <td>-639.80</td>\n      <td>23.72</td>\n      <td>377.73</td>\n      <td>SE0004840718</td>\n      <td>Xvivo Perfusion</td>\n      <td>Health Care</td>\n      <td>Mid cap</td>\n      <td>#440154</td>\n    </tr>\n    <tr>\n      <th>569</th>\n      <td>ZAPLOX.ST</td>\n      <td>-2.26</td>\n      <td>32.82</td>\n      <td>NaN</td>\n      <td>SE0009722465</td>\n      <td>Zaplox</td>\n      <td>Technology</td>\n      <td>First north</td>\n      <td>#3E4989</td>\n    </tr>\n    <tr>\n      <th>570</th>\n      <td>ZETA.ST</td>\n      <td>4.38</td>\n      <td>0.62</td>\n      <td>15.59</td>\n      <td>SE0001105511</td>\n      <td>ZetaDisplay</td>\n      <td>Technology</td>\n      <td>Small cap</td>\n      <td>#3E4989</td>\n    </tr>\n    <tr>\n      <th>571</th>\n      <td>ZUTEC.ST</td>\n      <td>-1.42</td>\n      <td>1.87</td>\n      <td>NaN</td>\n      <td>SE0010869487</td>\n      <td>Zutec Holding</td>\n      <td>Technology</td>\n      <td>First north</td>\n      <td>#3E4989</td>\n    </tr>\n    <tr>\n      <th>572</th>\n      <td>ZZ-B.ST</td>\n      <td>18.32</td>\n      <td>1.05</td>\n      <td>46.89</td>\n      <td>SE0002480442</td>\n      <td>Zinzino B</td>\n      <td>Consumer Services</td>\n      <td>First north</td>\n      <td>#1E9C89</td>\n    </tr>\n  </tbody>\n</table>\n<p>573 rows × 9 columns</p>\n</div>"
     },
     "metadata": {},
     "execution_count": 17
    }
   ],
   "source": [
    "category_items = df_fundamentals['Sector'].unique()\n",
    "palette = all_palettes['Viridis'][len(category_items)]\n",
    "colormap = dict(zip(category_items, palette))\n",
    "df_fundamentals['Color'] = df_fundamentals['Sector'].map(colormap)\n",
    "\n",
    "df_fundamentals"
   ]
  },
  {
   "cell_type": "markdown",
   "metadata": {},
   "source": [
    "# Plottig the correlation between P/E and EV/EBITDA"
   ]
  },
  {
   "cell_type": "code",
   "execution_count": 18,
   "metadata": {},
   "outputs": [],
   "source": [
    "#Setting plot output in notebook\n",
    "# output_notebook()\n",
    "\n",
    "TOOLS = \"crosshair, \\\n",
    "        pan, \\\n",
    "        wheel_zoom, \\\n",
    "        reset, \\\n",
    "        tap, \\\n",
    "        save, \\\n",
    "        box_select\"\n",
    "\n",
    "source = ColumnDataSource(dict(x = df_fundamentals['Trailing P/E'],\n",
    "                               y = df_fundamentals['Enterprise Value/EBITDA'],\n",
    "                               color = df_fundamentals['Color'],\n",
    "                               ticker = df_fundamentals['Ticker'],\n",
    "                               sector = df_fundamentals['Sector']))\n",
    "\n",
    "hover = HoverTool(tooltips=[\n",
    "                            (\"index\", \"$index\"),\n",
    "                            (\"sector\", \"@sector\"),\n",
    "                            (\"ticker\", \"@ticker\"),\n",
    "                            (\"(x,y)\", \"($x, $y)\"),\n",
    "                            ]\n",
    "                    )\n",
    "\n",
    "p = figure(tools = [TOOLS, hover], plot_width = 800, plot_height = 700)\n",
    "\n",
    "labels = LabelSet(x = 'x', \n",
    "                  y = 'y', \n",
    "                  text = 'label', \n",
    "                  source = source,\n",
    "                  text_font_size='8pt')\n",
    "\n",
    "# Remove \"legend='sector',\" to remove legend\n",
    "p.scatter(x = 'x', \n",
    "          y = 'y', \n",
    "          color = 'color', \n",
    "          legend_label = 'sector', \n",
    "          source = source)\n",
    "\n",
    "p.title.text = \"Current Valuation Structure\"\n",
    "p.title.text_font_size = \"25px\"\n",
    "\n",
    "# Uncomment the following line to add labels\n",
    "# p.add_layout(labels)\n",
    "\n",
    "p.xaxis.axis_label = 'Trailing P/E'\n",
    "p.yaxis.axis_label = 'Enterprise Value/EBITDA'\n",
    "\n",
    "show(p)"
   ]
  },
  {
   "cell_type": "markdown",
   "metadata": {},
   "source": [
    "# Importing daily stock prices"
   ]
  },
  {
   "cell_type": "code",
   "execution_count": 19,
   "metadata": {},
   "outputs": [],
   "source": [
    "query_prices = \"\"\"\n",
    "DECLARE \n",
    "\t@DateFrom DATE = (SELECT MIN(Date) FROM [christopherFuru].[Yahoo].[prices]),\n",
    "\t@DateTo DATE =(SELECT MAX(Date) FROM [christopherFuru].[Yahoo].[prices]);\n",
    "\n",
    "WITH\n",
    "\tCTE_Companies AS\n",
    "\t(\n",
    "\t\tSELECT DISTINCT\n",
    "\t\t\tC.Ticker,\n",
    "\t\t\tC.CompanyName,\n",
    "\t\t\tC.List,\n",
    "\t\t\tC.Sector\n",
    "\t\tFROM\n",
    "\t\t\tchristopherFuru.yahoo.companies C\n",
    "\t),\n",
    "\n",
    "\tCTE_Prices AS\n",
    "\t(\n",
    "\t\tSELECT \n",
    "\t\t\tP.Date,\n",
    "\t\t\tP.Ticker,\n",
    "\t\t\tC.CompanyName,\n",
    "\t\t\tC.List,\n",
    "\t\t\tC.Sector,\n",
    "\t\t\tP.ClosePriceInSek\n",
    "\t\tFROM\n",
    "\t\t\tCTE_Companies C \n",
    "\t\t\tJOIN [christopherFuru].[Yahoo].[prices] P ON\n",
    "\t\t\t\tP.Ticker = C.Ticker\n",
    "\t\tWHERE\n",
    "\t\t\tP.Date >= @DateFrom AND \n",
    "\t\t\tP.Date <= @DateTo\n",
    "\t)\n",
    "\n",
    "SELECT * FROM CTE_Prices;\n",
    "\"\"\""
   ]
  },
  {
   "cell_type": "code",
   "execution_count": 20,
   "metadata": {},
   "outputs": [],
   "source": [
    "df_price_company = pd.read_sql(query_prices, cnxn)\n",
    "df_prices_daily = pd.pivot_table(df_price_company, values = 'ClosePriceInSek', index = 'Date',\n",
    "                    columns = ['Ticker'], aggfunc = np.sum, fill_value = 1)\n",
    "\n",
    "df_prices_daily.index = pd.to_datetime(df_prices_daily.index)\n",
    "df_prices_weekly = df_prices_daily.resample('W').ffill()"
   ]
  },
  {
   "cell_type": "markdown",
   "metadata": {},
   "source": [
    "# Daily price change"
   ]
  },
  {
   "cell_type": "code",
   "execution_count": 21,
   "metadata": {},
   "outputs": [
    {
     "output_type": "execute_result",
     "data": {
      "text/plain": "Date       2019-01-20  2019-01-27  2019-02-03  2019-02-10  2019-02-17  \\\nTicker                                                                  \n2CUREX.ST   -0.030640    0.007748   -0.035916   -0.006881   -0.122257   \n3KR.ST       0.008811    0.017392    0.008585    0.025318    0.000000   \nAAC.ST       0.026680    0.007861   -0.034542   -0.032960    0.047731   \nAAK.ST       0.036061   -0.003775   -0.012483   -0.007843    0.060652   \nAAP-B.ST     0.012404   -0.048945    0.064236   -0.120822    0.016979   \n...               ...         ...         ...         ...         ...   \nXVIVO.ST    -0.016406   -0.022815    0.010712    0.077581    0.113077   \nZAPLOX.ST   -0.097111    0.099679    0.000000    0.032790   -0.069347   \nZETA.ST     -0.020087    0.045334    0.087473   -0.036180    0.015666   \nZUTEC.ST    -0.049859    0.015173   -0.015532   -0.007677    0.011374   \nZZ-B.ST     -0.015275   -0.010301    0.002582    0.116928   -0.004611   \n\nDate       2019-02-24  2019-03-03  2019-03-10  2019-03-17  2019-03-24  ...  \\\nTicker                                                                 ...   \n2CUREX.ST    0.056875   -0.119939   -0.051145    0.041401    0.004187  ...   \n3KR.ST      -0.008368    0.033061   -0.033061    0.016667   -0.008299  ...   \nAAC.ST      -0.044953   -0.149982    0.038124    0.057509    0.184771  ...   \nAAK.ST       0.031185   -0.026113   -0.035613    0.003738   -0.015038  ...   \nAAP-B.ST     0.021649   -0.021649   -0.025576   -0.054404   -0.101451  ...   \n...               ...         ...         ...         ...         ...  ...   \nXVIVO.ST     0.017457    0.080708   -0.030095    0.065933   -0.084913  ...   \nZAPLOX.ST   -0.167538   -0.012658   -0.025808    0.000000   -0.019803  ...   \nZETA.ST      0.055430   -0.009852   -0.009950   -0.040822    0.055711  ...   \nZUTEC.ST    -0.226124   -0.007491    0.014926   -0.067407   -0.063799  ...   \nZZ-B.ST      0.006902    0.072956    0.136333   -0.018779    0.055312  ...   \n\nDate       2020-07-19  2020-07-26  2020-08-02  2020-08-09  2020-08-16  \\\nTicker                                                                  \n2CUREX.ST   -3.005683    0.000000    0.000000    0.000000    0.000000   \n3KR.ST      -4.828314    0.000000    0.000000    0.000000    0.000000   \nAAC.ST      -1.223775    0.000000    0.000000    0.000000    0.000000   \nAAK.ST      -0.036072    0.042118   -0.017926    0.055596    0.011845   \nAAP-B.ST    -2.663750    0.000000    0.000000    0.000000    0.000000   \n...               ...         ...         ...         ...         ...   \nXVIVO.ST     0.015784    0.006689    0.004435    0.030503    0.080373   \nZAPLOX.ST    0.294371    0.000000    0.000000    0.000000    0.000000   \nZETA.ST     -2.740840    0.000000    0.000000    0.000000    0.000000   \nZUTEC.ST    -0.207014    0.000000    0.000000    0.000000    0.000000   \nZZ-B.ST     -3.353407    0.000000    0.000000    0.000000    0.000000   \n\nDate       2020-08-23  2020-08-30  2020-09-06  2020-09-13  2020-09-20  \nTicker                                                                 \n2CUREX.ST    0.000000    0.000000    0.000000    2.917771    0.031918  \n3KR.ST       0.000000    0.000000    0.000000    4.867534    0.011472  \nAAC.ST       0.000000    0.000000    0.000000    1.081805    0.021795  \nAAK.ST       0.024162    0.020132   -0.032289   -0.001194   -0.005091  \nAAP-B.ST     0.000000    0.000000    0.000000    2.583998   -2.583998  \n...               ...         ...         ...         ...         ...  \nXVIVO.ST     0.002472    0.002466    0.024332    0.030772    0.103961  \nZAPLOX.ST    0.000000    0.000000    0.000000   -0.430783   -0.063513  \nZETA.ST      0.000000    0.000000    0.000000    0.000000    0.000000  \nZUTEC.ST     0.000000    0.000000    0.000000    1.252763   -0.052798  \nZZ-B.ST      0.000000    0.000000    0.000000    3.589059    0.032612  \n\n[596 rows x 88 columns]",
      "text/html": "<div>\n<style scoped>\n    .dataframe tbody tr th:only-of-type {\n        vertical-align: middle;\n    }\n\n    .dataframe tbody tr th {\n        vertical-align: top;\n    }\n\n    .dataframe thead th {\n        text-align: right;\n    }\n</style>\n<table border=\"1\" class=\"dataframe\">\n  <thead>\n    <tr style=\"text-align: right;\">\n      <th>Date</th>\n      <th>2019-01-20</th>\n      <th>2019-01-27</th>\n      <th>2019-02-03</th>\n      <th>2019-02-10</th>\n      <th>2019-02-17</th>\n      <th>2019-02-24</th>\n      <th>2019-03-03</th>\n      <th>2019-03-10</th>\n      <th>2019-03-17</th>\n      <th>2019-03-24</th>\n      <th>...</th>\n      <th>2020-07-19</th>\n      <th>2020-07-26</th>\n      <th>2020-08-02</th>\n      <th>2020-08-09</th>\n      <th>2020-08-16</th>\n      <th>2020-08-23</th>\n      <th>2020-08-30</th>\n      <th>2020-09-06</th>\n      <th>2020-09-13</th>\n      <th>2020-09-20</th>\n    </tr>\n    <tr>\n      <th>Ticker</th>\n      <th></th>\n      <th></th>\n      <th></th>\n      <th></th>\n      <th></th>\n      <th></th>\n      <th></th>\n      <th></th>\n      <th></th>\n      <th></th>\n      <th></th>\n      <th></th>\n      <th></th>\n      <th></th>\n      <th></th>\n      <th></th>\n      <th></th>\n      <th></th>\n      <th></th>\n      <th></th>\n      <th></th>\n    </tr>\n  </thead>\n  <tbody>\n    <tr>\n      <th>2CUREX.ST</th>\n      <td>-0.030640</td>\n      <td>0.007748</td>\n      <td>-0.035916</td>\n      <td>-0.006881</td>\n      <td>-0.122257</td>\n      <td>0.056875</td>\n      <td>-0.119939</td>\n      <td>-0.051145</td>\n      <td>0.041401</td>\n      <td>0.004187</td>\n      <td>...</td>\n      <td>-3.005683</td>\n      <td>0.000000</td>\n      <td>0.000000</td>\n      <td>0.000000</td>\n      <td>0.000000</td>\n      <td>0.000000</td>\n      <td>0.000000</td>\n      <td>0.000000</td>\n      <td>2.917771</td>\n      <td>0.031918</td>\n    </tr>\n    <tr>\n      <th>3KR.ST</th>\n      <td>0.008811</td>\n      <td>0.017392</td>\n      <td>0.008585</td>\n      <td>0.025318</td>\n      <td>0.000000</td>\n      <td>-0.008368</td>\n      <td>0.033061</td>\n      <td>-0.033061</td>\n      <td>0.016667</td>\n      <td>-0.008299</td>\n      <td>...</td>\n      <td>-4.828314</td>\n      <td>0.000000</td>\n      <td>0.000000</td>\n      <td>0.000000</td>\n      <td>0.000000</td>\n      <td>0.000000</td>\n      <td>0.000000</td>\n      <td>0.000000</td>\n      <td>4.867534</td>\n      <td>0.011472</td>\n    </tr>\n    <tr>\n      <th>AAC.ST</th>\n      <td>0.026680</td>\n      <td>0.007861</td>\n      <td>-0.034542</td>\n      <td>-0.032960</td>\n      <td>0.047731</td>\n      <td>-0.044953</td>\n      <td>-0.149982</td>\n      <td>0.038124</td>\n      <td>0.057509</td>\n      <td>0.184771</td>\n      <td>...</td>\n      <td>-1.223775</td>\n      <td>0.000000</td>\n      <td>0.000000</td>\n      <td>0.000000</td>\n      <td>0.000000</td>\n      <td>0.000000</td>\n      <td>0.000000</td>\n      <td>0.000000</td>\n      <td>1.081805</td>\n      <td>0.021795</td>\n    </tr>\n    <tr>\n      <th>AAK.ST</th>\n      <td>0.036061</td>\n      <td>-0.003775</td>\n      <td>-0.012483</td>\n      <td>-0.007843</td>\n      <td>0.060652</td>\n      <td>0.031185</td>\n      <td>-0.026113</td>\n      <td>-0.035613</td>\n      <td>0.003738</td>\n      <td>-0.015038</td>\n      <td>...</td>\n      <td>-0.036072</td>\n      <td>0.042118</td>\n      <td>-0.017926</td>\n      <td>0.055596</td>\n      <td>0.011845</td>\n      <td>0.024162</td>\n      <td>0.020132</td>\n      <td>-0.032289</td>\n      <td>-0.001194</td>\n      <td>-0.005091</td>\n    </tr>\n    <tr>\n      <th>AAP-B.ST</th>\n      <td>0.012404</td>\n      <td>-0.048945</td>\n      <td>0.064236</td>\n      <td>-0.120822</td>\n      <td>0.016979</td>\n      <td>0.021649</td>\n      <td>-0.021649</td>\n      <td>-0.025576</td>\n      <td>-0.054404</td>\n      <td>-0.101451</td>\n      <td>...</td>\n      <td>-2.663750</td>\n      <td>0.000000</td>\n      <td>0.000000</td>\n      <td>0.000000</td>\n      <td>0.000000</td>\n      <td>0.000000</td>\n      <td>0.000000</td>\n      <td>0.000000</td>\n      <td>2.583998</td>\n      <td>-2.583998</td>\n    </tr>\n    <tr>\n      <th>...</th>\n      <td>...</td>\n      <td>...</td>\n      <td>...</td>\n      <td>...</td>\n      <td>...</td>\n      <td>...</td>\n      <td>...</td>\n      <td>...</td>\n      <td>...</td>\n      <td>...</td>\n      <td>...</td>\n      <td>...</td>\n      <td>...</td>\n      <td>...</td>\n      <td>...</td>\n      <td>...</td>\n      <td>...</td>\n      <td>...</td>\n      <td>...</td>\n      <td>...</td>\n      <td>...</td>\n    </tr>\n    <tr>\n      <th>XVIVO.ST</th>\n      <td>-0.016406</td>\n      <td>-0.022815</td>\n      <td>0.010712</td>\n      <td>0.077581</td>\n      <td>0.113077</td>\n      <td>0.017457</td>\n      <td>0.080708</td>\n      <td>-0.030095</td>\n      <td>0.065933</td>\n      <td>-0.084913</td>\n      <td>...</td>\n      <td>0.015784</td>\n      <td>0.006689</td>\n      <td>0.004435</td>\n      <td>0.030503</td>\n      <td>0.080373</td>\n      <td>0.002472</td>\n      <td>0.002466</td>\n      <td>0.024332</td>\n      <td>0.030772</td>\n      <td>0.103961</td>\n    </tr>\n    <tr>\n      <th>ZAPLOX.ST</th>\n      <td>-0.097111</td>\n      <td>0.099679</td>\n      <td>0.000000</td>\n      <td>0.032790</td>\n      <td>-0.069347</td>\n      <td>-0.167538</td>\n      <td>-0.012658</td>\n      <td>-0.025808</td>\n      <td>0.000000</td>\n      <td>-0.019803</td>\n      <td>...</td>\n      <td>0.294371</td>\n      <td>0.000000</td>\n      <td>0.000000</td>\n      <td>0.000000</td>\n      <td>0.000000</td>\n      <td>0.000000</td>\n      <td>0.000000</td>\n      <td>0.000000</td>\n      <td>-0.430783</td>\n      <td>-0.063513</td>\n    </tr>\n    <tr>\n      <th>ZETA.ST</th>\n      <td>-0.020087</td>\n      <td>0.045334</td>\n      <td>0.087473</td>\n      <td>-0.036180</td>\n      <td>0.015666</td>\n      <td>0.055430</td>\n      <td>-0.009852</td>\n      <td>-0.009950</td>\n      <td>-0.040822</td>\n      <td>0.055711</td>\n      <td>...</td>\n      <td>-2.740840</td>\n      <td>0.000000</td>\n      <td>0.000000</td>\n      <td>0.000000</td>\n      <td>0.000000</td>\n      <td>0.000000</td>\n      <td>0.000000</td>\n      <td>0.000000</td>\n      <td>0.000000</td>\n      <td>0.000000</td>\n    </tr>\n    <tr>\n      <th>ZUTEC.ST</th>\n      <td>-0.049859</td>\n      <td>0.015173</td>\n      <td>-0.015532</td>\n      <td>-0.007677</td>\n      <td>0.011374</td>\n      <td>-0.226124</td>\n      <td>-0.007491</td>\n      <td>0.014926</td>\n      <td>-0.067407</td>\n      <td>-0.063799</td>\n      <td>...</td>\n      <td>-0.207014</td>\n      <td>0.000000</td>\n      <td>0.000000</td>\n      <td>0.000000</td>\n      <td>0.000000</td>\n      <td>0.000000</td>\n      <td>0.000000</td>\n      <td>0.000000</td>\n      <td>1.252763</td>\n      <td>-0.052798</td>\n    </tr>\n    <tr>\n      <th>ZZ-B.ST</th>\n      <td>-0.015275</td>\n      <td>-0.010301</td>\n      <td>0.002582</td>\n      <td>0.116928</td>\n      <td>-0.004611</td>\n      <td>0.006902</td>\n      <td>0.072956</td>\n      <td>0.136333</td>\n      <td>-0.018779</td>\n      <td>0.055312</td>\n      <td>...</td>\n      <td>-3.353407</td>\n      <td>0.000000</td>\n      <td>0.000000</td>\n      <td>0.000000</td>\n      <td>0.000000</td>\n      <td>0.000000</td>\n      <td>0.000000</td>\n      <td>0.000000</td>\n      <td>3.589059</td>\n      <td>0.032612</td>\n    </tr>\n  </tbody>\n</table>\n<p>596 rows × 88 columns</p>\n</div>"
     },
     "metadata": {},
     "execution_count": 21
    }
   ],
   "source": [
    "# df_price_variation = df_prices_daily.shift(1) - df_prices_daily\n",
    "df_price_variation = np.log1p(df_prices_weekly.pct_change()[1:])\n",
    "df_price_variation = df_price_variation[1:].T\n",
    "df_price_variation"
   ]
  },
  {
   "cell_type": "markdown",
   "metadata": {},
   "source": [
    "# Clustering\n",
    "https://scikit-learn.org/stable/auto_examples/applications/plot_stock_market.html#sphx-glr-auto-examples-applications-plot-stock-market-py\n",
    "\n",
    "https://medium.com/datadriveninvestor/stock-market-clustering-with-k-means-clustering-in-python-4bf6bd5bd685"
   ]
  },
  {
   "cell_type": "markdown",
   "metadata": {},
   "source": [
    "## Kmeans"
   ]
  },
  {
   "cell_type": "code",
   "execution_count": 25,
   "metadata": {},
   "outputs": [
    {
     "output_type": "display_data",
     "data": {
      "text/plain": "<Figure size 432x288 with 1 Axes>",
      "image/svg+xml": "<?xml version=\"1.0\" encoding=\"utf-8\" standalone=\"no\"?>\r\n<!DOCTYPE svg PUBLIC \"-//W3C//DTD SVG 1.1//EN\"\r\n  \"http://www.w3.org/Graphics/SVG/1.1/DTD/svg11.dtd\">\r\n<!-- Created with matplotlib (https://matplotlib.org/) -->\r\n<svg height=\"263.63625pt\" version=\"1.1\" viewBox=\"0 0 381.65 263.63625\" width=\"381.65pt\" xmlns=\"http://www.w3.org/2000/svg\" xmlns:xlink=\"http://www.w3.org/1999/xlink\">\r\n <defs>\r\n  <style type=\"text/css\">\r\n*{stroke-linecap:butt;stroke-linejoin:round;}\r\n  </style>\r\n </defs>\r\n <g id=\"figure_1\">\r\n  <g id=\"patch_1\">\r\n   <path d=\"M -0 263.63625 \r\nL 381.65 263.63625 \r\nL 381.65 0 \r\nL -0 0 \r\nz\r\n\" style=\"fill:none;\"/>\r\n  </g>\r\n  <g id=\"axes_1\">\r\n   <g id=\"patch_2\">\r\n    <path d=\"M 39.65 239.758125 \r\nL 374.45 239.758125 \r\nL 374.45 22.318125 \r\nL 39.65 22.318125 \r\nz\r\n\" style=\"fill:#ffffff;\"/>\r\n   </g>\r\n   <g id=\"matplotlib.axis_1\">\r\n    <g id=\"xtick_1\">\r\n     <g id=\"line2d_1\">\r\n      <defs>\r\n       <path d=\"M 0 0 \r\nL 0 3.5 \r\n\" id=\"m2a7a96fd6d\" style=\"stroke:#000000;stroke-width:0.8;\"/>\r\n      </defs>\r\n      <g>\r\n       <use style=\"stroke:#000000;stroke-width:0.8;\" x=\"41.916538\" xlink:href=\"#m2a7a96fd6d\" y=\"239.758125\"/>\r\n      </g>\r\n     </g>\r\n     <g id=\"text_1\">\r\n      <!-- 0 -->\r\n      <defs>\r\n       <path d=\"M 31.78125 66.40625 \r\nQ 24.171875 66.40625 20.328125 58.90625 \r\nQ 16.5 51.421875 16.5 36.375 \r\nQ 16.5 21.390625 20.328125 13.890625 \r\nQ 24.171875 6.390625 31.78125 6.390625 \r\nQ 39.453125 6.390625 43.28125 13.890625 \r\nQ 47.125 21.390625 47.125 36.375 \r\nQ 47.125 51.421875 43.28125 58.90625 \r\nQ 39.453125 66.40625 31.78125 66.40625 \r\nz\r\nM 31.78125 74.21875 \r\nQ 44.046875 74.21875 50.515625 64.515625 \r\nQ 56.984375 54.828125 56.984375 36.375 \r\nQ 56.984375 17.96875 50.515625 8.265625 \r\nQ 44.046875 -1.421875 31.78125 -1.421875 \r\nQ 19.53125 -1.421875 13.0625 8.265625 \r\nQ 6.59375 17.96875 6.59375 36.375 \r\nQ 6.59375 54.828125 13.0625 64.515625 \r\nQ 19.53125 74.21875 31.78125 74.21875 \r\nz\r\n\" id=\"DejaVuSans-48\"/>\r\n      </defs>\r\n      <g transform=\"translate(38.735288 254.356563)scale(0.1 -0.1)\">\r\n       <use xlink:href=\"#DejaVuSans-48\"/>\r\n      </g>\r\n     </g>\r\n    </g>\r\n    <g id=\"xtick_2\">\r\n     <g id=\"line2d_2\">\r\n      <g>\r\n       <use style=\"stroke:#000000;stroke-width:0.8;\" x=\"106.674758\" xlink:href=\"#m2a7a96fd6d\" y=\"239.758125\"/>\r\n      </g>\r\n     </g>\r\n     <g id=\"text_2\">\r\n      <!-- 10 -->\r\n      <defs>\r\n       <path d=\"M 12.40625 8.296875 \r\nL 28.515625 8.296875 \r\nL 28.515625 63.921875 \r\nL 10.984375 60.40625 \r\nL 10.984375 69.390625 \r\nL 28.421875 72.90625 \r\nL 38.28125 72.90625 \r\nL 38.28125 8.296875 \r\nL 54.390625 8.296875 \r\nL 54.390625 0 \r\nL 12.40625 0 \r\nz\r\n\" id=\"DejaVuSans-49\"/>\r\n      </defs>\r\n      <g transform=\"translate(100.312258 254.356563)scale(0.1 -0.1)\">\r\n       <use xlink:href=\"#DejaVuSans-49\"/>\r\n       <use x=\"63.623047\" xlink:href=\"#DejaVuSans-48\"/>\r\n      </g>\r\n     </g>\r\n    </g>\r\n    <g id=\"xtick_3\">\r\n     <g id=\"line2d_3\">\r\n      <g>\r\n       <use style=\"stroke:#000000;stroke-width:0.8;\" x=\"171.432979\" xlink:href=\"#m2a7a96fd6d\" y=\"239.758125\"/>\r\n      </g>\r\n     </g>\r\n     <g id=\"text_3\">\r\n      <!-- 20 -->\r\n      <defs>\r\n       <path d=\"M 19.1875 8.296875 \r\nL 53.609375 8.296875 \r\nL 53.609375 0 \r\nL 7.328125 0 \r\nL 7.328125 8.296875 \r\nQ 12.9375 14.109375 22.625 23.890625 \r\nQ 32.328125 33.6875 34.8125 36.53125 \r\nQ 39.546875 41.84375 41.421875 45.53125 \r\nQ 43.3125 49.21875 43.3125 52.78125 \r\nQ 43.3125 58.59375 39.234375 62.25 \r\nQ 35.15625 65.921875 28.609375 65.921875 \r\nQ 23.96875 65.921875 18.8125 64.3125 \r\nQ 13.671875 62.703125 7.8125 59.421875 \r\nL 7.8125 69.390625 \r\nQ 13.765625 71.78125 18.9375 73 \r\nQ 24.125 74.21875 28.421875 74.21875 \r\nQ 39.75 74.21875 46.484375 68.546875 \r\nQ 53.21875 62.890625 53.21875 53.421875 \r\nQ 53.21875 48.921875 51.53125 44.890625 \r\nQ 49.859375 40.875 45.40625 35.40625 \r\nQ 44.1875 33.984375 37.640625 27.21875 \r\nQ 31.109375 20.453125 19.1875 8.296875 \r\nz\r\n\" id=\"DejaVuSans-50\"/>\r\n      </defs>\r\n      <g transform=\"translate(165.070479 254.356563)scale(0.1 -0.1)\">\r\n       <use xlink:href=\"#DejaVuSans-50\"/>\r\n       <use x=\"63.623047\" xlink:href=\"#DejaVuSans-48\"/>\r\n      </g>\r\n     </g>\r\n    </g>\r\n    <g id=\"xtick_4\">\r\n     <g id=\"line2d_4\">\r\n      <g>\r\n       <use style=\"stroke:#000000;stroke-width:0.8;\" x=\"236.191199\" xlink:href=\"#m2a7a96fd6d\" y=\"239.758125\"/>\r\n      </g>\r\n     </g>\r\n     <g id=\"text_4\">\r\n      <!-- 30 -->\r\n      <defs>\r\n       <path d=\"M 40.578125 39.3125 \r\nQ 47.65625 37.796875 51.625 33 \r\nQ 55.609375 28.21875 55.609375 21.1875 \r\nQ 55.609375 10.40625 48.1875 4.484375 \r\nQ 40.765625 -1.421875 27.09375 -1.421875 \r\nQ 22.515625 -1.421875 17.65625 -0.515625 \r\nQ 12.796875 0.390625 7.625 2.203125 \r\nL 7.625 11.71875 \r\nQ 11.71875 9.328125 16.59375 8.109375 \r\nQ 21.484375 6.890625 26.8125 6.890625 \r\nQ 36.078125 6.890625 40.9375 10.546875 \r\nQ 45.796875 14.203125 45.796875 21.1875 \r\nQ 45.796875 27.640625 41.28125 31.265625 \r\nQ 36.765625 34.90625 28.71875 34.90625 \r\nL 20.21875 34.90625 \r\nL 20.21875 43.015625 \r\nL 29.109375 43.015625 \r\nQ 36.375 43.015625 40.234375 45.921875 \r\nQ 44.09375 48.828125 44.09375 54.296875 \r\nQ 44.09375 59.90625 40.109375 62.90625 \r\nQ 36.140625 65.921875 28.71875 65.921875 \r\nQ 24.65625 65.921875 20.015625 65.03125 \r\nQ 15.375 64.15625 9.8125 62.3125 \r\nL 9.8125 71.09375 \r\nQ 15.4375 72.65625 20.34375 73.4375 \r\nQ 25.25 74.21875 29.59375 74.21875 \r\nQ 40.828125 74.21875 47.359375 69.109375 \r\nQ 53.90625 64.015625 53.90625 55.328125 \r\nQ 53.90625 49.265625 50.4375 45.09375 \r\nQ 46.96875 40.921875 40.578125 39.3125 \r\nz\r\n\" id=\"DejaVuSans-51\"/>\r\n      </defs>\r\n      <g transform=\"translate(229.828699 254.356563)scale(0.1 -0.1)\">\r\n       <use xlink:href=\"#DejaVuSans-51\"/>\r\n       <use x=\"63.623047\" xlink:href=\"#DejaVuSans-48\"/>\r\n      </g>\r\n     </g>\r\n    </g>\r\n    <g id=\"xtick_5\">\r\n     <g id=\"line2d_5\">\r\n      <g>\r\n       <use style=\"stroke:#000000;stroke-width:0.8;\" x=\"300.94942\" xlink:href=\"#m2a7a96fd6d\" y=\"239.758125\"/>\r\n      </g>\r\n     </g>\r\n     <g id=\"text_5\">\r\n      <!-- 40 -->\r\n      <defs>\r\n       <path d=\"M 37.796875 64.3125 \r\nL 12.890625 25.390625 \r\nL 37.796875 25.390625 \r\nz\r\nM 35.203125 72.90625 \r\nL 47.609375 72.90625 \r\nL 47.609375 25.390625 \r\nL 58.015625 25.390625 \r\nL 58.015625 17.1875 \r\nL 47.609375 17.1875 \r\nL 47.609375 0 \r\nL 37.796875 0 \r\nL 37.796875 17.1875 \r\nL 4.890625 17.1875 \r\nL 4.890625 26.703125 \r\nz\r\n\" id=\"DejaVuSans-52\"/>\r\n      </defs>\r\n      <g transform=\"translate(294.58692 254.356563)scale(0.1 -0.1)\">\r\n       <use xlink:href=\"#DejaVuSans-52\"/>\r\n       <use x=\"63.623047\" xlink:href=\"#DejaVuSans-48\"/>\r\n      </g>\r\n     </g>\r\n    </g>\r\n    <g id=\"xtick_6\">\r\n     <g id=\"line2d_6\">\r\n      <g>\r\n       <use style=\"stroke:#000000;stroke-width:0.8;\" x=\"365.70764\" xlink:href=\"#m2a7a96fd6d\" y=\"239.758125\"/>\r\n      </g>\r\n     </g>\r\n     <g id=\"text_6\">\r\n      <!-- 50 -->\r\n      <defs>\r\n       <path d=\"M 10.796875 72.90625 \r\nL 49.515625 72.90625 \r\nL 49.515625 64.59375 \r\nL 19.828125 64.59375 \r\nL 19.828125 46.734375 \r\nQ 21.96875 47.46875 24.109375 47.828125 \r\nQ 26.265625 48.1875 28.421875 48.1875 \r\nQ 40.625 48.1875 47.75 41.5 \r\nQ 54.890625 34.8125 54.890625 23.390625 \r\nQ 54.890625 11.625 47.5625 5.09375 \r\nQ 40.234375 -1.421875 26.90625 -1.421875 \r\nQ 22.3125 -1.421875 17.546875 -0.640625 \r\nQ 12.796875 0.140625 7.71875 1.703125 \r\nL 7.71875 11.625 \r\nQ 12.109375 9.234375 16.796875 8.0625 \r\nQ 21.484375 6.890625 26.703125 6.890625 \r\nQ 35.15625 6.890625 40.078125 11.328125 \r\nQ 45.015625 15.765625 45.015625 23.390625 \r\nQ 45.015625 31 40.078125 35.4375 \r\nQ 35.15625 39.890625 26.703125 39.890625 \r\nQ 22.75 39.890625 18.8125 39.015625 \r\nQ 14.890625 38.140625 10.796875 36.28125 \r\nz\r\n\" id=\"DejaVuSans-53\"/>\r\n      </defs>\r\n      <g transform=\"translate(359.34514 254.356563)scale(0.1 -0.1)\">\r\n       <use xlink:href=\"#DejaVuSans-53\"/>\r\n       <use x=\"63.623047\" xlink:href=\"#DejaVuSans-48\"/>\r\n      </g>\r\n     </g>\r\n    </g>\r\n   </g>\r\n   <g id=\"matplotlib.axis_2\">\r\n    <g id=\"ytick_1\">\r\n     <g id=\"line2d_7\">\r\n      <defs>\r\n       <path d=\"M 0 0 \r\nL -3.5 0 \r\n\" id=\"m5502fab829\" style=\"stroke:#000000;stroke-width:0.8;\"/>\r\n      </defs>\r\n      <g>\r\n       <use style=\"stroke:#000000;stroke-width:0.8;\" x=\"39.65\" xlink:href=\"#m5502fab829\" y=\"222.095001\"/>\r\n      </g>\r\n     </g>\r\n     <g id=\"text_7\">\r\n      <!-- 500 -->\r\n      <g transform=\"translate(13.5625 225.89422)scale(0.1 -0.1)\">\r\n       <use xlink:href=\"#DejaVuSans-53\"/>\r\n       <use x=\"63.623047\" xlink:href=\"#DejaVuSans-48\"/>\r\n       <use x=\"127.246094\" xlink:href=\"#DejaVuSans-48\"/>\r\n      </g>\r\n     </g>\r\n    </g>\r\n    <g id=\"ytick_2\">\r\n     <g id=\"line2d_8\">\r\n      <g>\r\n       <use style=\"stroke:#000000;stroke-width:0.8;\" x=\"39.65\" xlink:href=\"#m5502fab829\" y=\"195.629574\"/>\r\n      </g>\r\n     </g>\r\n     <g id=\"text_8\">\r\n      <!-- 1000 -->\r\n      <g transform=\"translate(7.2 199.428793)scale(0.1 -0.1)\">\r\n       <use xlink:href=\"#DejaVuSans-49\"/>\r\n       <use x=\"63.623047\" xlink:href=\"#DejaVuSans-48\"/>\r\n       <use x=\"127.246094\" xlink:href=\"#DejaVuSans-48\"/>\r\n       <use x=\"190.869141\" xlink:href=\"#DejaVuSans-48\"/>\r\n      </g>\r\n     </g>\r\n    </g>\r\n    <g id=\"ytick_3\">\r\n     <g id=\"line2d_9\">\r\n      <g>\r\n       <use style=\"stroke:#000000;stroke-width:0.8;\" x=\"39.65\" xlink:href=\"#m5502fab829\" y=\"169.164147\"/>\r\n      </g>\r\n     </g>\r\n     <g id=\"text_9\">\r\n      <!-- 1500 -->\r\n      <g transform=\"translate(7.2 172.963365)scale(0.1 -0.1)\">\r\n       <use xlink:href=\"#DejaVuSans-49\"/>\r\n       <use x=\"63.623047\" xlink:href=\"#DejaVuSans-53\"/>\r\n       <use x=\"127.246094\" xlink:href=\"#DejaVuSans-48\"/>\r\n       <use x=\"190.869141\" xlink:href=\"#DejaVuSans-48\"/>\r\n      </g>\r\n     </g>\r\n    </g>\r\n    <g id=\"ytick_4\">\r\n     <g id=\"line2d_10\">\r\n      <g>\r\n       <use style=\"stroke:#000000;stroke-width:0.8;\" x=\"39.65\" xlink:href=\"#m5502fab829\" y=\"142.698719\"/>\r\n      </g>\r\n     </g>\r\n     <g id=\"text_10\">\r\n      <!-- 2000 -->\r\n      <g transform=\"translate(7.2 146.497938)scale(0.1 -0.1)\">\r\n       <use xlink:href=\"#DejaVuSans-50\"/>\r\n       <use x=\"63.623047\" xlink:href=\"#DejaVuSans-48\"/>\r\n       <use x=\"127.246094\" xlink:href=\"#DejaVuSans-48\"/>\r\n       <use x=\"190.869141\" xlink:href=\"#DejaVuSans-48\"/>\r\n      </g>\r\n     </g>\r\n    </g>\r\n    <g id=\"ytick_5\">\r\n     <g id=\"line2d_11\">\r\n      <g>\r\n       <use style=\"stroke:#000000;stroke-width:0.8;\" x=\"39.65\" xlink:href=\"#m5502fab829\" y=\"116.233292\"/>\r\n      </g>\r\n     </g>\r\n     <g id=\"text_11\">\r\n      <!-- 2500 -->\r\n      <g transform=\"translate(7.2 120.032511)scale(0.1 -0.1)\">\r\n       <use xlink:href=\"#DejaVuSans-50\"/>\r\n       <use x=\"63.623047\" xlink:href=\"#DejaVuSans-53\"/>\r\n       <use x=\"127.246094\" xlink:href=\"#DejaVuSans-48\"/>\r\n       <use x=\"190.869141\" xlink:href=\"#DejaVuSans-48\"/>\r\n      </g>\r\n     </g>\r\n    </g>\r\n    <g id=\"ytick_6\">\r\n     <g id=\"line2d_12\">\r\n      <g>\r\n       <use style=\"stroke:#000000;stroke-width:0.8;\" x=\"39.65\" xlink:href=\"#m5502fab829\" y=\"89.767865\"/>\r\n      </g>\r\n     </g>\r\n     <g id=\"text_12\">\r\n      <!-- 3000 -->\r\n      <g transform=\"translate(7.2 93.567084)scale(0.1 -0.1)\">\r\n       <use xlink:href=\"#DejaVuSans-51\"/>\r\n       <use x=\"63.623047\" xlink:href=\"#DejaVuSans-48\"/>\r\n       <use x=\"127.246094\" xlink:href=\"#DejaVuSans-48\"/>\r\n       <use x=\"190.869141\" xlink:href=\"#DejaVuSans-48\"/>\r\n      </g>\r\n     </g>\r\n    </g>\r\n    <g id=\"ytick_7\">\r\n     <g id=\"line2d_13\">\r\n      <g>\r\n       <use style=\"stroke:#000000;stroke-width:0.8;\" x=\"39.65\" xlink:href=\"#m5502fab829\" y=\"63.302438\"/>\r\n      </g>\r\n     </g>\r\n     <g id=\"text_13\">\r\n      <!-- 3500 -->\r\n      <g transform=\"translate(7.2 67.101657)scale(0.1 -0.1)\">\r\n       <use xlink:href=\"#DejaVuSans-51\"/>\r\n       <use x=\"63.623047\" xlink:href=\"#DejaVuSans-53\"/>\r\n       <use x=\"127.246094\" xlink:href=\"#DejaVuSans-48\"/>\r\n       <use x=\"190.869141\" xlink:href=\"#DejaVuSans-48\"/>\r\n      </g>\r\n     </g>\r\n    </g>\r\n    <g id=\"ytick_8\">\r\n     <g id=\"line2d_14\">\r\n      <g>\r\n       <use style=\"stroke:#000000;stroke-width:0.8;\" x=\"39.65\" xlink:href=\"#m5502fab829\" y=\"36.837011\"/>\r\n      </g>\r\n     </g>\r\n     <g id=\"text_14\">\r\n      <!-- 4000 -->\r\n      <g transform=\"translate(7.2 40.636229)scale(0.1 -0.1)\">\r\n       <use xlink:href=\"#DejaVuSans-52\"/>\r\n       <use x=\"63.623047\" xlink:href=\"#DejaVuSans-48\"/>\r\n       <use x=\"127.246094\" xlink:href=\"#DejaVuSans-48\"/>\r\n       <use x=\"190.869141\" xlink:href=\"#DejaVuSans-48\"/>\r\n      </g>\r\n     </g>\r\n    </g>\r\n   </g>\r\n   <g id=\"line2d_15\">\r\n    <path clip-path=\"url(#p36f6417f44)\" d=\"M 54.868182 32.201761 \r\nL 61.344004 106.735988 \r\nL 67.819826 134.169086 \r\nL 74.295648 152.409625 \r\nL 80.77147 167.64217 \r\nL 87.247292 174.824165 \r\nL 93.723114 180.737316 \r\nL 100.198936 186.645985 \r\nL 106.674758 191.091356 \r\nL 113.15058 194.566203 \r\nL 119.626402 198.613442 \r\nL 126.102224 200.89786 \r\nL 132.578046 202.762458 \r\nL 139.053868 204.569289 \r\nL 145.529691 206.691406 \r\nL 152.005513 208.288353 \r\nL 158.481335 210.322599 \r\nL 164.957157 211.494634 \r\nL 171.432979 213.505499 \r\nL 177.908801 214.703252 \r\nL 184.384623 214.959319 \r\nL 190.860445 216.746918 \r\nL 197.336267 217.94744 \r\nL 203.812089 219.56059 \r\nL 210.287911 219.492721 \r\nL 216.763733 221.034131 \r\nL 223.239555 221.62602 \r\nL 229.715377 222.15124 \r\nL 236.191199 222.85587 \r\nL 242.667021 224.256308 \r\nL 249.142843 224.44731 \r\nL 255.618665 224.503334 \r\nL 262.094487 225.620133 \r\nL 268.570309 225.967078 \r\nL 275.046132 226.198321 \r\nL 281.521954 226.719302 \r\nL 287.997776 226.638173 \r\nL 294.473598 227.560937 \r\nL 300.94942 227.592891 \r\nL 307.425242 228.106027 \r\nL 313.901064 228.110435 \r\nL 320.376886 228.528704 \r\nL 326.852708 229.022982 \r\nL 333.32853 229.122605 \r\nL 339.804352 229.173287 \r\nL 346.280174 229.650966 \r\nL 352.755996 229.74067 \r\nL 359.231818 229.874489 \r\n\" style=\"fill:none;stroke:#1f77b4;stroke-linecap:square;stroke-width:1.5;\"/>\r\n   </g>\r\n   <g id=\"patch_3\">\r\n    <path d=\"M 39.65 239.758125 \r\nL 39.65 22.318125 \r\n\" style=\"fill:none;stroke:#000000;stroke-linecap:square;stroke-linejoin:miter;stroke-width:0.8;\"/>\r\n   </g>\r\n   <g id=\"patch_4\">\r\n    <path d=\"M 374.45 239.758125 \r\nL 374.45 22.318125 \r\n\" style=\"fill:none;stroke:#000000;stroke-linecap:square;stroke-linejoin:miter;stroke-width:0.8;\"/>\r\n   </g>\r\n   <g id=\"patch_5\">\r\n    <path d=\"M 39.65 239.758125 \r\nL 374.45 239.758125 \r\n\" style=\"fill:none;stroke:#000000;stroke-linecap:square;stroke-linejoin:miter;stroke-width:0.8;\"/>\r\n   </g>\r\n   <g id=\"patch_6\">\r\n    <path d=\"M 39.65 22.318125 \r\nL 374.45 22.318125 \r\n\" style=\"fill:none;stroke:#000000;stroke-linecap:square;stroke-linejoin:miter;stroke-width:0.8;\"/>\r\n   </g>\r\n   <g id=\"text_15\">\r\n    <!-- Elbow Curve -->\r\n    <defs>\r\n     <path d=\"M 9.8125 72.90625 \r\nL 55.90625 72.90625 \r\nL 55.90625 64.59375 \r\nL 19.671875 64.59375 \r\nL 19.671875 43.015625 \r\nL 54.390625 43.015625 \r\nL 54.390625 34.71875 \r\nL 19.671875 34.71875 \r\nL 19.671875 8.296875 \r\nL 56.78125 8.296875 \r\nL 56.78125 0 \r\nL 9.8125 0 \r\nz\r\n\" id=\"DejaVuSans-69\"/>\r\n     <path d=\"M 9.421875 75.984375 \r\nL 18.40625 75.984375 \r\nL 18.40625 0 \r\nL 9.421875 0 \r\nz\r\n\" id=\"DejaVuSans-108\"/>\r\n     <path d=\"M 48.6875 27.296875 \r\nQ 48.6875 37.203125 44.609375 42.84375 \r\nQ 40.53125 48.484375 33.40625 48.484375 \r\nQ 26.265625 48.484375 22.1875 42.84375 \r\nQ 18.109375 37.203125 18.109375 27.296875 \r\nQ 18.109375 17.390625 22.1875 11.75 \r\nQ 26.265625 6.109375 33.40625 6.109375 \r\nQ 40.53125 6.109375 44.609375 11.75 \r\nQ 48.6875 17.390625 48.6875 27.296875 \r\nz\r\nM 18.109375 46.390625 \r\nQ 20.953125 51.265625 25.265625 53.625 \r\nQ 29.59375 56 35.59375 56 \r\nQ 45.5625 56 51.78125 48.09375 \r\nQ 58.015625 40.1875 58.015625 27.296875 \r\nQ 58.015625 14.40625 51.78125 6.484375 \r\nQ 45.5625 -1.421875 35.59375 -1.421875 \r\nQ 29.59375 -1.421875 25.265625 0.953125 \r\nQ 20.953125 3.328125 18.109375 8.203125 \r\nL 18.109375 0 \r\nL 9.078125 0 \r\nL 9.078125 75.984375 \r\nL 18.109375 75.984375 \r\nz\r\n\" id=\"DejaVuSans-98\"/>\r\n     <path d=\"M 30.609375 48.390625 \r\nQ 23.390625 48.390625 19.1875 42.75 \r\nQ 14.984375 37.109375 14.984375 27.296875 \r\nQ 14.984375 17.484375 19.15625 11.84375 \r\nQ 23.34375 6.203125 30.609375 6.203125 \r\nQ 37.796875 6.203125 41.984375 11.859375 \r\nQ 46.1875 17.53125 46.1875 27.296875 \r\nQ 46.1875 37.015625 41.984375 42.703125 \r\nQ 37.796875 48.390625 30.609375 48.390625 \r\nz\r\nM 30.609375 56 \r\nQ 42.328125 56 49.015625 48.375 \r\nQ 55.71875 40.765625 55.71875 27.296875 \r\nQ 55.71875 13.875 49.015625 6.21875 \r\nQ 42.328125 -1.421875 30.609375 -1.421875 \r\nQ 18.84375 -1.421875 12.171875 6.21875 \r\nQ 5.515625 13.875 5.515625 27.296875 \r\nQ 5.515625 40.765625 12.171875 48.375 \r\nQ 18.84375 56 30.609375 56 \r\nz\r\n\" id=\"DejaVuSans-111\"/>\r\n     <path d=\"M 4.203125 54.6875 \r\nL 13.1875 54.6875 \r\nL 24.421875 12.015625 \r\nL 35.59375 54.6875 \r\nL 46.1875 54.6875 \r\nL 57.421875 12.015625 \r\nL 68.609375 54.6875 \r\nL 77.59375 54.6875 \r\nL 63.28125 0 \r\nL 52.6875 0 \r\nL 40.921875 44.828125 \r\nL 29.109375 0 \r\nL 18.5 0 \r\nz\r\n\" id=\"DejaVuSans-119\"/>\r\n     <path id=\"DejaVuSans-32\"/>\r\n     <path d=\"M 64.40625 67.28125 \r\nL 64.40625 56.890625 \r\nQ 59.421875 61.53125 53.78125 63.8125 \r\nQ 48.140625 66.109375 41.796875 66.109375 \r\nQ 29.296875 66.109375 22.65625 58.46875 \r\nQ 16.015625 50.828125 16.015625 36.375 \r\nQ 16.015625 21.96875 22.65625 14.328125 \r\nQ 29.296875 6.6875 41.796875 6.6875 \r\nQ 48.140625 6.6875 53.78125 8.984375 \r\nQ 59.421875 11.28125 64.40625 15.921875 \r\nL 64.40625 5.609375 \r\nQ 59.234375 2.09375 53.4375 0.328125 \r\nQ 47.65625 -1.421875 41.21875 -1.421875 \r\nQ 24.65625 -1.421875 15.125 8.703125 \r\nQ 5.609375 18.84375 5.609375 36.375 \r\nQ 5.609375 53.953125 15.125 64.078125 \r\nQ 24.65625 74.21875 41.21875 74.21875 \r\nQ 47.75 74.21875 53.53125 72.484375 \r\nQ 59.328125 70.75 64.40625 67.28125 \r\nz\r\n\" id=\"DejaVuSans-67\"/>\r\n     <path d=\"M 8.5 21.578125 \r\nL 8.5 54.6875 \r\nL 17.484375 54.6875 \r\nL 17.484375 21.921875 \r\nQ 17.484375 14.15625 20.5 10.265625 \r\nQ 23.53125 6.390625 29.59375 6.390625 \r\nQ 36.859375 6.390625 41.078125 11.03125 \r\nQ 45.3125 15.671875 45.3125 23.6875 \r\nL 45.3125 54.6875 \r\nL 54.296875 54.6875 \r\nL 54.296875 0 \r\nL 45.3125 0 \r\nL 45.3125 8.40625 \r\nQ 42.046875 3.421875 37.71875 1 \r\nQ 33.40625 -1.421875 27.6875 -1.421875 \r\nQ 18.265625 -1.421875 13.375 4.4375 \r\nQ 8.5 10.296875 8.5 21.578125 \r\nz\r\nM 31.109375 56 \r\nz\r\n\" id=\"DejaVuSans-117\"/>\r\n     <path d=\"M 41.109375 46.296875 \r\nQ 39.59375 47.171875 37.8125 47.578125 \r\nQ 36.03125 48 33.890625 48 \r\nQ 26.265625 48 22.1875 43.046875 \r\nQ 18.109375 38.09375 18.109375 28.8125 \r\nL 18.109375 0 \r\nL 9.078125 0 \r\nL 9.078125 54.6875 \r\nL 18.109375 54.6875 \r\nL 18.109375 46.1875 \r\nQ 20.953125 51.171875 25.484375 53.578125 \r\nQ 30.03125 56 36.53125 56 \r\nQ 37.453125 56 38.578125 55.875 \r\nQ 39.703125 55.765625 41.0625 55.515625 \r\nz\r\n\" id=\"DejaVuSans-114\"/>\r\n     <path d=\"M 2.984375 54.6875 \r\nL 12.5 54.6875 \r\nL 29.59375 8.796875 \r\nL 46.6875 54.6875 \r\nL 56.203125 54.6875 \r\nL 35.6875 0 \r\nL 23.484375 0 \r\nz\r\n\" id=\"DejaVuSans-118\"/>\r\n     <path d=\"M 56.203125 29.59375 \r\nL 56.203125 25.203125 \r\nL 14.890625 25.203125 \r\nQ 15.484375 15.921875 20.484375 11.0625 \r\nQ 25.484375 6.203125 34.421875 6.203125 \r\nQ 39.59375 6.203125 44.453125 7.46875 \r\nQ 49.3125 8.734375 54.109375 11.28125 \r\nL 54.109375 2.78125 \r\nQ 49.265625 0.734375 44.1875 -0.34375 \r\nQ 39.109375 -1.421875 33.890625 -1.421875 \r\nQ 20.796875 -1.421875 13.15625 6.1875 \r\nQ 5.515625 13.8125 5.515625 26.8125 \r\nQ 5.515625 40.234375 12.765625 48.109375 \r\nQ 20.015625 56 32.328125 56 \r\nQ 43.359375 56 49.78125 48.890625 \r\nQ 56.203125 41.796875 56.203125 29.59375 \r\nz\r\nM 47.21875 32.234375 \r\nQ 47.125 39.59375 43.09375 43.984375 \r\nQ 39.0625 48.390625 32.421875 48.390625 \r\nQ 24.90625 48.390625 20.390625 44.140625 \r\nQ 15.875 39.890625 15.1875 32.171875 \r\nz\r\n\" id=\"DejaVuSans-101\"/>\r\n    </defs>\r\n    <g transform=\"translate(169.595938 16.318125)scale(0.12 -0.12)\">\r\n     <use xlink:href=\"#DejaVuSans-69\"/>\r\n     <use x=\"63.183594\" xlink:href=\"#DejaVuSans-108\"/>\r\n     <use x=\"90.966797\" xlink:href=\"#DejaVuSans-98\"/>\r\n     <use x=\"154.443359\" xlink:href=\"#DejaVuSans-111\"/>\r\n     <use x=\"215.625\" xlink:href=\"#DejaVuSans-119\"/>\r\n     <use x=\"297.412109\" xlink:href=\"#DejaVuSans-32\"/>\r\n     <use x=\"329.199219\" xlink:href=\"#DejaVuSans-67\"/>\r\n     <use x=\"399.023438\" xlink:href=\"#DejaVuSans-117\"/>\r\n     <use x=\"462.402344\" xlink:href=\"#DejaVuSans-114\"/>\r\n     <use x=\"503.515625\" xlink:href=\"#DejaVuSans-118\"/>\r\n     <use x=\"562.695312\" xlink:href=\"#DejaVuSans-101\"/>\r\n    </g>\r\n   </g>\r\n  </g>\r\n </g>\r\n <defs>\r\n  <clipPath id=\"p36f6417f44\">\r\n   <rect height=\"217.44\" width=\"334.8\" x=\"39.65\" y=\"22.318125\"/>\r\n  </clipPath>\r\n </defs>\r\n</svg>\r\n",
      "image/png": "[encoded data removed]"
     },
     "metadata": {
      "needs_background": "light"
     }
    }
   ],
   "source": [
    "sse = []\n",
    "for k in range(2,50):\n",
    "    \n",
    "    kmeans = cluster.KMeans(n_clusters = k)\n",
    "    kmeans.fit(df_price_variation)\n",
    "    \n",
    "    sse.append(kmeans.inertia_) #SSE for each n_clusters\n",
    "\n",
    "pl.plot(range(2,50), sse)\n",
    "pl.title(\"Elbow Curve\")\n",
    "pl.show()"
   ]
  },
  {
   "cell_type": "code",
   "execution_count": 23,
   "metadata": {},
   "outputs": [
    {
     "output_type": "stream",
     "name": "stdout",
     "text": "Cluster 1: 2CUREX.ST, 3KR.ST, AAC.ST, AAP-B.ST, ABSO.ST, ACCON.ST, ADDERA.ST, ADVE.ST, AEC.ST, AGES-B.ST, AJA-B.ST, ALLG-B.ST, ALM-PREF.ST, ALM.ST, AMAST.ST, ARCOMA.ST, AROC.ST, AROS-PREF.ST, ASAI.ST, ASPIRE.ST, ATVEXA-B.ST, AVEN.ST, AWRD.ST, AXOLOT.ST, AZELIO.ST, BIOS.ST, BIOVIC-B.ST, BIOWKS.ST, BONES.ST, BOTX.ST, BRE2.ST, BRIG.ST, BYGGP.ST, CAG.ST, CAPAC.ST, CFISH.ST, CI-B.ST, CIBUS.ST, CLBIO.ST, CLEM.ST, CLIME-B.ST, CLS-B.ST, CONF.ST, DDM.ST, DELARK.ST, DIST.ST, DOME.ST, EFFP.ST, EOS.ST, EXPRS2.ST, FASTAT.ST, FIL.ST, FIRE.ST, FLEXM.ST, FLUI.ST, FOOT-B.ST, FRISQ.ST, GABA.ST, GAPW-B.ST, GENI.ST, GENO.ST, GHUS-B.ST, GOMX.ST, GPG-PREF.ST, GPX.ST, GREAT.ST, HANZA.ST, HEGR.ST, HEIM-PREF.ST, HELIO.ST, HEMC.ST, HIFA-B.ST, HOVD.ST, HOYLU.ST, ICO.ST, IMPC.ST, INCOAX.ST, INTEG-B.ST, IRIS.ST, IRRAS.ST, ISOFOL.ST, ISR.ST, ITECH.ST, IVACC.ST, JDT.ST, JETPAK.ST, JLT.ST, K2A-PREF.ST, KAMBI.ST, KAN.ST, KAPIAB.ST, KOPY.ST, LEX.ST, LIDDS.ST, LIVI.ST, LOUDS.ST, MAGI.ST, MANG.ST, MAXF.ST, ME.ST, MYFC.ST, NEPA.ST, NETG.ST, NICO.ST, NIO.ST, NITRO.ST, NLAB.ST, NNH.ST, ODD.ST, ORTI-B.ST, OVZON.ST, PAX.ST, PCELL.ST, PDX.ST, PEGRO-PREF.ST, PIEZO.ST, PLED.ST, POLYG.ST, POOL-B.ST, PRCO-B.ST, PREV-B.ST, PRIC-B.ST, PROF-B.ST, PROMO.ST, QUART-PREF.ST, QUART.ST, RAIL.ST, RAKE.ST, REALFI.ST, REJL-B.ST, RLS.ST, RPLAN.ST, S2M.ST, SALT-B.ST, SANION.ST, SBB-B.ST, SBB-D.ST, SBB-PREF.ST, SCOUT.ST, SDIP-B.ST, SDOS.ST, SDS.ST, SECARE.ST, SECI.ST, SEMC.ST, SENS.ST, SENZA.ST, SERT.ST, SF.ST, SINT.ST, SIVE.ST, SKMO.ST, SOF-B.ST, SOLNA.ST, SOLT.ST, SONE.ST, SPEC.ST, SPRINT.ST, SSM.ST, STIL.ST, STORY-B.ST, STW.ST, STWK.ST, SUS.ST, SVED-B.ST, SVIK.ST, TALK.ST, TCT.ST, TRANS.ST, UNIBAP.ST, VEMF-SDB.ST, VERI.ST, VICO.ST, VSSAB-B.ST, WAYS.ST, WISE.ST, WPAY.ST, XBRANE.ST, XINT.ST, XSPRAY.ST, ZZ-B.ST\n-----------------------------\nCluster 2: AOI.ST, AZA.ST, BMAX.ST, BOL.ST, COLL.ST, COPP-B.ST, DEDI.ST, DORO.ST, HMS.ST, IVSO.ST, KABE-B.ST, LAGR-B.ST, MULQ.ST, NCAB.ST, RATO-B.ST, SAS.ST, SWEC-B.ST, TETY.ST\n-----------------------------\nCluster 3: ARISE.ST, AZN.ST, BESQ.ST, BRIN-B.ST, DUST.ST, ELTEL.ST, EOLU-B.ST, ESSITY-B.ST, GARO.ST, GETI-B.ST, LUG.ST, MAG.ST, MTG-B.ST, NOBI.ST, NYF.ST, OEM-B.ST, PLAZ-B.ST, RESURS.ST, SAAB-B.ST, SAGA-D.ST, SINCH.ST, SWMA.ST, TRAC-B.ST, VRG-B.ST\n-----------------------------\nCluster 4: AMBEA.ST, ASSA-B.ST, ATRLJ-B.ST, BALD-B.ST, CAT-B.ST, CATE.ST, CEVI.ST, CORE-B.ST, CRAD-B.ST, DIOS.ST, EAST.ST, ENEA.ST, EWRK.ST, FABG.ST, FEEL.ST, HEBA-B.ST, INSTAL.ST, KLED.ST, KLOV-B.ST, KLOV-PREF.ST, LEMSE.ST, MCAP.ST, MCOV-B.ST, MIDW-B.ST, NAXS.ST, NMAN.ST, NOBINA.ST, NP3.ST, PREC.ST, RECI-B.ST, SAGA-B.ST, SRNKE-B.ST, TFBANK.ST, TIGO-SDB.ST, VIT-B.ST, VOLO.ST, WIHL.ST\n-----------------------------\nCluster 5: ACAD.ST, ADDT-B.ST, ALIV-SDB.ST, BETS-B.ST, BIOT.ST, BONAV-B.ST, BRAV.ST, BUFAB.ST, BURE.ST, CAMX.ST, CAST.ST, COIC.ST, FPAR-PREF.ST, HLDX.ST, IBT-B.ST, INDT.ST, INTRUM.ST, INVE-B.ST, KIND-SDB.ST, KINV-B.ST, LATO-B.ST, LUND-B.ST, MEKO.ST, MMGR-B.ST, MTRS.ST, NET-B.ST, NOLA-B.ST, NP3-PREF.ST, OP-PREFB.ST, OPUS.ST, ORES.ST, PEAB-B.ST, SCST.ST, SECU-B.ST, STEF-B.ST, TELIA.ST, TOBII.ST, WALL-B.ST\n-----------------------------\nCluster 6: ARCT.ST, BONG.ST, CE.ST, CYB1.ST, ENERS.ST, HDW-B.ST, ITAL-SDB.ST, MANTEX.ST, MAV.ST, MISE.ST, NJOB.ST, NXTMS.ST, OBAB.ST, PAPI.ST, POLY.ST, PRIME.ST, SAXG.ST, SNM.ST, SPIFF.ST, TAGM-B.ST, ZAPLOX.ST\n-----------------------------\nCluster 7: AGRO.ST, ALCA.ST, AMAST-PREF.ST, AUR.ST, AYIMA-B.ST, BINERO.ST, BUSER.ST, CANTA.ST, CLNK-B.ST, CMOTEC-B.ST, CTT.ST, DIAH.ST, DMYD-B.ST, DOXA.ST, DRIL.ST, ENRO-PREF.ST, ERMA.ST, FMM-B.ST, IMMU.ST, INDEX.ST, INISS-B.ST, IVISYS.ST, KAKEL.ST, KLAR.ST, LAMM-B.ST, LIME.ST, LOG.ST, MIDS.ST, NEXAM.ST, NTEK-B.ST, PRIME-PREF-B.ST, REDS.ST, SBOK.ST, SCIB.ST, SDIP-PREF.ST, SIMRIS-B.ST, STRAX.ST, TORSAB.ST, TRAD.ST, TRIAN-B.ST, URBIT.ST, XMR.ST, ZETA.ST\n-----------------------------\nCluster 8: ALELIO.ST, ANNX.ST, ANOT.ST, ATIC.ST, AVT-B.ST, B3.ST, BORG.ST, CBTT-B.ST, CCC.ST, CLA-B.ST, CLEMO.ST, COMBI.ST, DURC-B.ST, EDGE.ST, ELEC.ST, ENRO.ST, HUM.ST, IS.ST, MOMENT.ST, MQ.ST, NGS.ST, NIL-B.ST, OP-PREF.ST, OP.ST, QLRO.ST, SWOL-B.ST, VNV-SDB.ST\n-----------------------------\nCluster 9: ABB.ST, AF-B.ST, ALFA.ST, ALIG.ST, ANOD-B.ST, ATCO-B.ST, BEIA-B.ST, BEIJ-B.ST, BELE.ST, BERG-B.ST, BRG-B.ST, BTS-B.ST, BULTEN.ST, CLAS-B.ST, CTM.ST, DOM.ST, DUNI.ST, ELAN-B.ST, ELOS-B.ST, ELUX-B.ST, ENQ.ST, EPI-B.ST, FAG.ST, FNM.ST, FOI-B.ST, GHP.ST, GRNG.ST, GUNN.ST, HEXA-B.ST, HIQ.ST, HM-B.ST, HOFI.ST, HPOL-B.ST, HTRO.ST, HUSQ-B.ST, IAR-B.ST, INDU-C.ST, INWI.ST, IPCO.ST, JM.ST, KNOW.ST, LIAB.ST, LUC.ST, LUMI.ST, NCC-B.ST, NEWA-B.ST, NIBE-B.ST, NOTE.ST, NWG.ST, PNDX-B.ST, SAND.ST, SHB-B.ST, SHOT.ST, SKA-B.ST, SKF-B.ST, SKIS-B.ST, SSAB-B.ST, STE-R.ST, SVOL-B.ST, SYSR.ST, THULE.ST, TREL-B.ST, TROAX.ST, VNE-SDB.ST, VOLV-B.ST\n-----------------------------\nCluster 10: CHRO.ST, ELN.ST, ENDO.ST, GCOR.ST, HUFV-C.ST, ICTA.ST, LOOM-B.ST, SES.ST, ZUTEC.ST\n-----------------------------\nCluster 11: AINO.ST, ALZCUR.ST, ASAP.ST, BAYN.ST, BIM.ST, CLAV.ST, CYXO.ST, DEVP-B.ST, DIGN.ST, ENZY.ST, FLEXQ.ST, FOOT-PREF.ST, FRAM-B.ST, GLOBAL.ST, GREEN.ST, KONT.ST, LINKAB.ST, MACK-B.ST, MINEST.ST, NILS.ST, ORGC.ST, PCAT.ST, PENG-B.ST, RROS.ST, SEDANA.ST, SEYE.ST, SEZI.ST, SJR-B.ST, TRENT.ST, TSEC.ST, UTG.ST\n-----------------------------\nCluster 12: AQ.ST, BEGR.ST, BIOA-B.ST, BONEX.ST, BOOZT.ST, COOR.ST, CORE-PREF.ST, FPIP.ST, HANDI.ST, ITAB-B.ST, LIFCO-B.ST, MEAB-B.ST, MYCR.ST, NFGAB.ST, PACT.ST, PROB.ST, QLINEA.ST, RAY-B.ST, RNBS.ST, SAGA-PREF.ST, VOLO-PREF.ST, XVIVO.ST\n-----------------------------\nCluster 13: AAK.ST, ACTI.ST, ARJO-B.ST, ARP.ST, ATRE.ST, ATT.ST, AXFO.ST, BACTI-B.ST, BHG.ST, BILL.ST, CUR.ST, ERIC-B.ST, EVO.ST, FING-B.ST, HOLM-B.ST, ICA.ST, KARO.ST, LAUR.ST, MIPS.ST, MSON-B.ST, NETM-B.ST, SCA-B.ST, SEB-C.ST, SECT-B.ST, SOBI.ST, TEL2-B.ST\n-----------------------------\nCluster 14: ADDV-B.ST, AERO.ST, ARION-SDB.ST, ATORX.ST, BALCO.ST, BETCO.ST, BINV.ST, BIOG-B.ST, BOUL.ST, CALTX.ST, CONS-B.ST, EKTA-B.ST, ENG.ST, ETX.ST, G5EN.ST, HNSA.ST, IMMNOV.ST, KENH.ST, LEO.ST, LLSW-B.ST, MOB.ST, MSAB-B.ST, MVIR-B.ST, NETI-B.ST, NVP.ST, OBOYA-B.ST, ONCO.ST, ORX.ST, STAR-B.ST, TANGI.ST, VBG-B.ST, VITR.ST, XANO-B.ST\n-----------------------------\nCluster 15: ACARIX.ST, ALIF-B.ST, CCOR-B.ST, EMPIR-B.ST, EPIS-B.ST, HAV-B.ST, HEMF.ST, KARE.ST, KDEV.ST, LUPE.ST, MOXI.ST, OASM.ST, OV.ST, PCOM-B.ST, SAPIAB.ST, SAVOS.ST, SMF.ST, SPOR.ST, TCC.ST, TERRNT-B.ST, WESC.ST\n-----------------------------\n"
    }
   ],
   "source": [
    "# Define a normalizer\n",
    "normalizer = Normalizer()\n",
    "\n",
    "# Create Kmeans model\n",
    "kmeans = KMeans(n_clusters = 15, max_iter = 1000)\n",
    "\n",
    "# Make a pipeline chaining normalizer and kmeans\n",
    "pipeline = make_pipeline(normalizer, kmeans)\n",
    "\n",
    "# Fit pipeline to daily stock movements\n",
    "pipeline.fit(df_price_variation)\n",
    "labels = pipeline.predict(df_price_variation)\n",
    "names = df_price_variation.index\n",
    "\n",
    "df_clusters = pd.DataFrame(df_price_company['CompanyName'].unique(), columns = ['CompanyName']).set_index('CompanyName')\n",
    "for i in range(labels.max() + 1):\n",
    "    df_clusters.loc[labels == i, 'Cluster'] = i + 1\n",
    "    print('Cluster %i: %s' % ((i + 1), ', '.join(names[labels == i])))\n",
    "    print('-----------------------------')\n"
   ]
  },
  {
   "cell_type": "code",
   "execution_count": 24,
   "metadata": {},
   "outputs": [
    {
     "output_type": "execute_result",
     "data": {
      "text/plain": "        Ticker  Enterprise Value/EBITDA  Enterprise Value/Revenue  \\\n524    TALK.ST                   -73.36                      6.77   \n517     SUS.ST                   132.05                     23.91   \n128   CIBUS.ST                   243.15                    187.00   \n213  FOOT-B.ST                   142.38                      3.06   \n154     DDM.ST                   183.75                     70.41   \n..         ...                      ...                       ...   \n121     CCC.ST                   103.68                     12.37   \n568   XVIVO.ST                  -639.80                     23.72   \n328     LUG.ST                  -699.00                       NaN   \n269   INDEX.ST                    -4.91                   6560.00   \n475  SEDANA.ST                  -874.02                     68.61   \n\n     Trailing P/E          ISIN                    CompanyName  \\\n524           NaN  CH0322161768                       TalkPool   \n517           NaN  SE0009947948        Surgical Science Sweden   \n128           NaN  SE0010832204       Cibus Nordic Real Estate   \n213        232.66  SE0011563295                Footway Group B   \n154           NaN  CH0246292343                    DDM Holding   \n..            ...           ...                            ...   \n121           NaN  CH0136071542                        Cavotec   \n568        377.73  SE0004840718                Xvivo Perfusion   \n328           NaN  CA5503711080                    Lundin Gold   \n269           NaN  SE0008966295  InDex Pharmaceuticals Holding   \n475           NaN  SE0009947534                 Sedana Medical   \n\n                 Sector         List    Color  Cluster  Cluster average P/E  \\\n524  Telecommunications  First north  #FDE724      8.0            17.887000   \n517         Health Care  First north  #440154      7.0            33.584167   \n128          Financials  First north  #472777      1.0            56.536974   \n213   Consumer Services  First north  #1E9C89      7.0            33.584167   \n154          Financials  First north  #472777      1.0            56.536974   \n..                  ...          ...      ...      ...                  ...   \n121         Industrials      Mid cap  #25828E      8.0            17.887000   \n568         Health Care      Mid cap  #440154      1.0            56.536974   \n328     Basic Materials      Mid cap  #6BCD59      1.0            56.536974   \n269         Health Care  First north  #440154      1.0            56.536974   \n475         Health Care  First north  #440154      1.0            56.536974   \n\n     Cluster average EV/EBITDA  Cluster average EV/Revenue  \\\n524                   1.933077                    2.687143   \n517                  -5.813421                  130.674706   \n128                 -10.067719                   90.367000   \n213                  -5.813421                  130.674706   \n154                 -10.067719                   90.367000   \n..                         ...                         ...   \n121                   1.933077                    2.687143   \n568                 -10.067719                   90.367000   \n328                 -10.067719                   90.367000   \n269                 -10.067719                   90.367000   \n475                 -10.067719                   90.367000   \n\n     Sector average P/E  Sector average EV/EBITDA  \\\n524           46.412500                  4.977143   \n517           78.307500                -54.432034   \n128           26.980351                 35.196515   \n213           83.797813                 44.065962   \n154           26.980351                 35.196515   \n..                  ...                       ...   \n121           26.286905                  8.858333   \n568           78.307500                -54.432034   \n328           24.557500                -23.243429   \n269           78.307500                -54.432034   \n475           78.307500                -54.432034   \n\n     % Over/Undervaluation (P/E)  % Over/Undervaluation (EV/EBITDA)  \\\n524                     0.000000                         -38.949861   \n517                     0.000000                         -23.714680   \n128                     0.000000                         -25.151448   \n213                     5.927669                         -25.491603   \n154                     0.000000                         -19.251403   \n..                           ...                                ...   \n121                     0.000000                          52.634700   \n568                     5.681115                          62.549646   \n328                     0.000000                          68.429826   \n269                     0.000000                          -0.512303   \n475                     0.000000                          85.814101   \n\n     % Over/Undervaluation (EV/Revenue)  % Total Over/Undervaluation  \n524                            1.519405                   -37.430456  \n517                           -0.817027                   -24.531707  \n128                            1.069339                   -24.082109  \n213                           -0.976583                   -20.540517  \n154                           -0.220844                   -19.472247  \n..                                  ...                          ...  \n121                            3.603402                    56.238102  \n568                           -0.737515                    67.493246  \n328                            0.000000                    68.429826  \n269                           71.592871                    71.080569  \n475                           -0.240763                    85.573338  \n\n[573 rows x 19 columns]",
      "text/html": "<div>\n<style scoped>\n    .dataframe tbody tr th:only-of-type {\n        vertical-align: middle;\n    }\n\n    .dataframe tbody tr th {\n        vertical-align: top;\n    }\n\n    .dataframe thead th {\n        text-align: right;\n    }\n</style>\n<table border=\"1\" class=\"dataframe\">\n  <thead>\n    <tr style=\"text-align: right;\">\n      <th></th>\n      <th>Ticker</th>\n      <th>Enterprise Value/EBITDA</th>\n      <th>Enterprise Value/Revenue</th>\n      <th>Trailing P/E</th>\n      <th>ISIN</th>\n      <th>CompanyName</th>\n      <th>Sector</th>\n      <th>List</th>\n      <th>Color</th>\n      <th>Cluster</th>\n      <th>Cluster average P/E</th>\n      <th>Cluster average EV/EBITDA</th>\n      <th>Cluster average EV/Revenue</th>\n      <th>Sector average P/E</th>\n      <th>Sector average EV/EBITDA</th>\n      <th>% Over/Undervaluation (P/E)</th>\n      <th>% Over/Undervaluation (EV/EBITDA)</th>\n      <th>% Over/Undervaluation (EV/Revenue)</th>\n      <th>% Total Over/Undervaluation</th>\n    </tr>\n  </thead>\n  <tbody>\n    <tr>\n      <th>524</th>\n      <td>TALK.ST</td>\n      <td>-73.36</td>\n      <td>6.77</td>\n      <td>NaN</td>\n      <td>CH0322161768</td>\n      <td>TalkPool</td>\n      <td>Telecommunications</td>\n      <td>First north</td>\n      <td>#FDE724</td>\n      <td>8.0</td>\n      <td>17.887000</td>\n      <td>1.933077</td>\n      <td>2.687143</td>\n      <td>46.412500</td>\n      <td>4.977143</td>\n      <td>0.000000</td>\n      <td>-38.949861</td>\n      <td>1.519405</td>\n      <td>-37.430456</td>\n    </tr>\n    <tr>\n      <th>517</th>\n      <td>SUS.ST</td>\n      <td>132.05</td>\n      <td>23.91</td>\n      <td>NaN</td>\n      <td>SE0009947948</td>\n      <td>Surgical Science Sweden</td>\n      <td>Health Care</td>\n      <td>First north</td>\n      <td>#440154</td>\n      <td>7.0</td>\n      <td>33.584167</td>\n      <td>-5.813421</td>\n      <td>130.674706</td>\n      <td>78.307500</td>\n      <td>-54.432034</td>\n      <td>0.000000</td>\n      <td>-23.714680</td>\n      <td>-0.817027</td>\n      <td>-24.531707</td>\n    </tr>\n    <tr>\n      <th>128</th>\n      <td>CIBUS.ST</td>\n      <td>243.15</td>\n      <td>187.00</td>\n      <td>NaN</td>\n      <td>SE0010832204</td>\n      <td>Cibus Nordic Real Estate</td>\n      <td>Financials</td>\n      <td>First north</td>\n      <td>#472777</td>\n      <td>1.0</td>\n      <td>56.536974</td>\n      <td>-10.067719</td>\n      <td>90.367000</td>\n      <td>26.980351</td>\n      <td>35.196515</td>\n      <td>0.000000</td>\n      <td>-25.151448</td>\n      <td>1.069339</td>\n      <td>-24.082109</td>\n    </tr>\n    <tr>\n      <th>213</th>\n      <td>FOOT-B.ST</td>\n      <td>142.38</td>\n      <td>3.06</td>\n      <td>232.66</td>\n      <td>SE0011563295</td>\n      <td>Footway Group B</td>\n      <td>Consumer Services</td>\n      <td>First north</td>\n      <td>#1E9C89</td>\n      <td>7.0</td>\n      <td>33.584167</td>\n      <td>-5.813421</td>\n      <td>130.674706</td>\n      <td>83.797813</td>\n      <td>44.065962</td>\n      <td>5.927669</td>\n      <td>-25.491603</td>\n      <td>-0.976583</td>\n      <td>-20.540517</td>\n    </tr>\n    <tr>\n      <th>154</th>\n      <td>DDM.ST</td>\n      <td>183.75</td>\n      <td>70.41</td>\n      <td>NaN</td>\n      <td>CH0246292343</td>\n      <td>DDM Holding</td>\n      <td>Financials</td>\n      <td>First north</td>\n      <td>#472777</td>\n      <td>1.0</td>\n      <td>56.536974</td>\n      <td>-10.067719</td>\n      <td>90.367000</td>\n      <td>26.980351</td>\n      <td>35.196515</td>\n      <td>0.000000</td>\n      <td>-19.251403</td>\n      <td>-0.220844</td>\n      <td>-19.472247</td>\n    </tr>\n    <tr>\n      <th>...</th>\n      <td>...</td>\n      <td>...</td>\n      <td>...</td>\n      <td>...</td>\n      <td>...</td>\n      <td>...</td>\n      <td>...</td>\n      <td>...</td>\n      <td>...</td>\n      <td>...</td>\n      <td>...</td>\n      <td>...</td>\n      <td>...</td>\n      <td>...</td>\n      <td>...</td>\n      <td>...</td>\n      <td>...</td>\n      <td>...</td>\n      <td>...</td>\n    </tr>\n    <tr>\n      <th>121</th>\n      <td>CCC.ST</td>\n      <td>103.68</td>\n      <td>12.37</td>\n      <td>NaN</td>\n      <td>CH0136071542</td>\n      <td>Cavotec</td>\n      <td>Industrials</td>\n      <td>Mid cap</td>\n      <td>#25828E</td>\n      <td>8.0</td>\n      <td>17.887000</td>\n      <td>1.933077</td>\n      <td>2.687143</td>\n      <td>26.286905</td>\n      <td>8.858333</td>\n      <td>0.000000</td>\n      <td>52.634700</td>\n      <td>3.603402</td>\n      <td>56.238102</td>\n    </tr>\n    <tr>\n      <th>568</th>\n      <td>XVIVO.ST</td>\n      <td>-639.80</td>\n      <td>23.72</td>\n      <td>377.73</td>\n      <td>SE0004840718</td>\n      <td>Xvivo Perfusion</td>\n      <td>Health Care</td>\n      <td>Mid cap</td>\n      <td>#440154</td>\n      <td>1.0</td>\n      <td>56.536974</td>\n      <td>-10.067719</td>\n      <td>90.367000</td>\n      <td>78.307500</td>\n      <td>-54.432034</td>\n      <td>5.681115</td>\n      <td>62.549646</td>\n      <td>-0.737515</td>\n      <td>67.493246</td>\n    </tr>\n    <tr>\n      <th>328</th>\n      <td>LUG.ST</td>\n      <td>-699.00</td>\n      <td>NaN</td>\n      <td>NaN</td>\n      <td>CA5503711080</td>\n      <td>Lundin Gold</td>\n      <td>Basic Materials</td>\n      <td>Mid cap</td>\n      <td>#6BCD59</td>\n      <td>1.0</td>\n      <td>56.536974</td>\n      <td>-10.067719</td>\n      <td>90.367000</td>\n      <td>24.557500</td>\n      <td>-23.243429</td>\n      <td>0.000000</td>\n      <td>68.429826</td>\n      <td>0.000000</td>\n      <td>68.429826</td>\n    </tr>\n    <tr>\n      <th>269</th>\n      <td>INDEX.ST</td>\n      <td>-4.91</td>\n      <td>6560.00</td>\n      <td>NaN</td>\n      <td>SE0008966295</td>\n      <td>InDex Pharmaceuticals Holding</td>\n      <td>Health Care</td>\n      <td>First north</td>\n      <td>#440154</td>\n      <td>1.0</td>\n      <td>56.536974</td>\n      <td>-10.067719</td>\n      <td>90.367000</td>\n      <td>78.307500</td>\n      <td>-54.432034</td>\n      <td>0.000000</td>\n      <td>-0.512303</td>\n      <td>71.592871</td>\n      <td>71.080569</td>\n    </tr>\n    <tr>\n      <th>475</th>\n      <td>SEDANA.ST</td>\n      <td>-874.02</td>\n      <td>68.61</td>\n      <td>NaN</td>\n      <td>SE0009947534</td>\n      <td>Sedana Medical</td>\n      <td>Health Care</td>\n      <td>First north</td>\n      <td>#440154</td>\n      <td>1.0</td>\n      <td>56.536974</td>\n      <td>-10.067719</td>\n      <td>90.367000</td>\n      <td>78.307500</td>\n      <td>-54.432034</td>\n      <td>0.000000</td>\n      <td>85.814101</td>\n      <td>-0.240763</td>\n      <td>85.573338</td>\n    </tr>\n  </tbody>\n</table>\n<p>573 rows × 19 columns</p>\n</div>"
     },
     "metadata": {},
     "execution_count": 24
    }
   ],
   "source": [
    "df_kmeans = df_fundamentals.merge(df_clusters, on = 'CompanyName')\n",
    "for i in range(labels.max() + 2):\n",
    "    df_kmeans.loc[df_kmeans['Cluster'] == i, 'Cluster average P/E'] = np.mean(df_kmeans[df_kmeans['Cluster'] == i]['Trailing P/E'])\n",
    "    df_kmeans.loc[df_kmeans['Cluster'] == i, 'Cluster average EV/EBITDA'] = np.mean(df_kmeans[df_kmeans['Cluster'] == i]['Enterprise Value/EBITDA'])\n",
    "    df_kmeans.loc[df_kmeans['Cluster'] == i, 'Cluster average EV/Revenue'] = np.mean(df_kmeans[df_kmeans['Cluster'] == i]['Enterprise Value/Revenue'])\n",
    "\n",
    "for i in df_kmeans.Sector.unique():\n",
    "    df_kmeans.loc[df_kmeans['Sector'] == i, 'Sector average P/E'] = np.mean(df_kmeans[df_kmeans['Sector'] == i]['Trailing P/E'])\n",
    "    df_kmeans.loc[df_kmeans['Sector'] == i, 'Sector average EV/EBITDA'] = np.mean(df_kmeans[df_kmeans['Sector'] == i]['Enterprise Value/EBITDA'])\n",
    "\n",
    "df_kmeans['% Over/Undervaluation (P/E)'] = (df_kmeans['Trailing P/E'] / df_kmeans['Cluster average P/E'] - 1)\n",
    "df_kmeans['% Over/Undervaluation (EV/EBITDA)'] = (df_kmeans['Enterprise Value/EBITDA'] / df_kmeans['Cluster average EV/EBITDA'] - 1)\n",
    "df_kmeans['% Over/Undervaluation (EV/Revenue)'] = (df_kmeans['Enterprise Value/Revenue'] / df_kmeans['Cluster average EV/Revenue'] - 1)\n",
    "\n",
    "df_kmeans['% Over/Undervaluation (P/E)'] = df_kmeans['% Over/Undervaluation (P/E)'].fillna(0)\n",
    "df_kmeans['% Over/Undervaluation (EV/EBITDA)'] = df_kmeans['% Over/Undervaluation (EV/EBITDA)'].fillna(0)\n",
    "df_kmeans['% Over/Undervaluation (EV/Revenue)'] = df_kmeans['% Over/Undervaluation (EV/Revenue)'].fillna(0)\n",
    "\n",
    "df_kmeans['% Total Over/Undervaluation'] = df_kmeans['% Over/Undervaluation (EV/EBITDA)'] + df_kmeans['% Over/Undervaluation (P/E)'] + df_kmeans['% Over/Undervaluation (EV/Revenue)']\n",
    "df_kmeans.sort_values(by = '% Total Over/Undervaluation')"
   ]
  },
  {
   "cell_type": "code",
   "execution_count": 27,
   "metadata": {},
   "outputs": [],
   "source": [
    "df_kmeans.to_excel(f'ClusteringResults_{date.today()}.xlsx')"
   ]
  },
  {
   "cell_type": "code",
   "execution_count": null,
   "metadata": {},
   "outputs": [],
   "source": []
  }
 ],
 "metadata": {
  "language_info": {
   "codemirror_mode": {
    "name": "ipython",
    "version": 3
   },
   "file_extension": ".py",
   "mimetype": "text/x-python",
   "name": "python",
   "nbconvert_exporter": "python",
   "pygments_lexer": "ipython3",
   "version": "3.8.3-final"
  },
  "orig_nbformat": 2,
  "kernelspec": {
   "name": "python38332bit464abc6759ac4b0cbccec3f4077e2b6f",
   "display_name": "Python 3.8.3 32-bit"
  }
 },
 "nbformat": 4,
 "nbformat_minor": 2
}