import yahoo_statistics as yahoo

sql = yahoo.yahooMsSqlServer()
cnxn, cursor = sql.connect()

query_statistics = """
WITH
	CTE_LatestDate AS
	(
		SELECT 
			MAX(Date) AS [LatestDate],
			Category,
			Ticker
		FROM 
			[christopherFuru].[Yahoo].[Valuations]
		WHERE
			Category IN
			(
				'Enterprise Value/EBITDA',
				'Forward P/E'
			)
		GROUP BY
			Category,
			Ticker
	),

	CTE_LatestValues AS
	(
		SELECT
			LD.LatestDate,
			LD.Ticker,
			V.Category,
			V.Value
		FROM
			CTE_LatestDate LD
			LEFT JOIN christopherFuru.Yahoo.Valuations V ON
				V.[Date] = LD.LatestDate AND
				V.Ticker = LD.Ticker AND
				V.Category = LD.Category
	)

SELECT * FROM CTE_LatestValues
"""
query_company_info = """
SELECT
    *
FROM
    [christopherFuru].[Yahoo].[Companies]
"""


statistics = pd.read_sql(query_statistics, cnxn)
company_info = pd.read_sql(query_company_info, cnxn)
pd.merge(statistics, company_info, on = 'Ticker')